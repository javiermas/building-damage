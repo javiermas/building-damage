{
 "cells": [
  {
   "cell_type": "code",
   "execution_count": 1,
   "metadata": {},
   "outputs": [],
   "source": [
    "import os\n",
    "import pandas as pd\n",
    "import rasterio"
   ]
  },
  {
   "cell_type": "code",
   "execution_count": 2,
   "metadata": {},
   "outputs": [],
   "source": [
    "def is_x_constant(raster):\n",
    "    return raster.xy(0, 0)[0] == raster.xy(raster.height-1, raster.width-1)[0]\n",
    "\n",
    "def is_y_constant(raster):\n",
    "    return raster.xy(0, 0)[1] == raster.xy(raster.height-1, raster.width-1)[1]\n",
    "\n",
    "files = os.listdir('../data/city_rasters/')\n",
    "cities = ['aleppo', 'damascus', 'raqqa', 'daraa', 'homs', 'idlib', 'hama', 'deir']\n",
    "good_files, bad_files = [], []\n",
    "for city in cities:\n",
    "    city_files = [file for file in files if city in file]\n",
    "    for file in city_files:\n",
    "        raster = rasterio.open(f'../data/city_rasters/{file}')\n",
    "        x_is_constant, y_is_constant = is_x_constant(raster), is_y_constant(raster)\n",
    "        \n",
    "        if x_is_constant or y_is_constant:\n",
    "            bad_files.append((file, x_is_constant, y_is_constant))\n",
    "            \n",
    "        if not x_is_constant and not y_is_constant:\n",
    "            good_files.append(file)"
   ]
  },
  {
   "cell_type": "markdown",
   "metadata": {},
   "source": [
    "On these files, either the latitude or the longitude (or both) are equal on the boundaries of the image (we assume it's contant across the entire image). Hence, we cannot use them for linking them with the annotation."
   ]
  },
  {
   "cell_type": "code",
   "execution_count": 3,
   "metadata": {},
   "outputs": [
    {
     "data": {
      "text/plain": [
       "[('raqqa_2016_07_01_zoom_19.tif', False, True),\n",
       " ('raqqa_2014_03_21_zoom_19.tif', False, True),\n",
       " ('daraa_2014_05_01_zoom_19.tif', True, True),\n",
       " ('daraa_2016_02_25_zoom_19.tif', True, True),\n",
       " ('daraa_2013_11_10_zoom_19.tif', True, True),\n",
       " ('daraa_2016_04_19_zoom_19.tif', True, True),\n",
       " ('homs_2016_05_30_zoom_19.tif', True, True),\n",
       " ('homs_2013_10_31_zoom_19.tif', True, True),\n",
       " ('idlib_2014_05_31_zoom_19.tif', True, True),\n",
       " ('idlib_2014_02_07_zoom_19.tif', True, True),\n",
       " ('hama_2016_07_29_zoom_19.tif', True, True),\n",
       " ('hama_2013_10_31_zoom_19.tif', True, True),\n",
       " ('hama_2014_04_03_zoom_19.tif', True, True),\n",
       " ('deir_2014_09_16_zoom_19.tif', True, True),\n",
       " ('deir_2013_10_24_zoom_19.tif', True, True)]"
      ]
     },
     "execution_count": 3,
     "metadata": {},
     "output_type": "execute_result"
    }
   ],
   "source": [
    "bad_files"
   ]
  },
  {
   "cell_type": "markdown",
   "metadata": {},
   "source": [
    "On these files, that problem is not present"
   ]
  },
  {
   "cell_type": "code",
   "execution_count": 4,
   "metadata": {},
   "outputs": [
    {
     "data": {
      "text/plain": [
       "['aleppo_2013_05_26_zoom_19.tif',\n",
       " 'aleppo_2011_06_26_zoom_19.tif',\n",
       " 'aleppo_2014_07_14_zoom_19.tif',\n",
       " 'aleppo_2014_05_23_zoom_19.tif',\n",
       " 'aleppo_2013_09_23_zoom_19.tif',\n",
       " 'aleppo_2016_09_18_zoom_19.tif',\n",
       " 'aleppo_2015_10_26_zoom_19.tif',\n",
       " 'aleppo_2016_10_19_zoom_19.tif',\n",
       " 'aleppo_2015_11_22_zoom_19.tif',\n",
       " 'aleppo_2013_10_31_zoom_19.tif',\n",
       " 'damascus_2011_08_22_zoom_19.tif',\n",
       " 'damascus_2017_01_22_zoom_19.tif',\n",
       " 'raqqa_2013_01_17_zoom_19.tif',\n",
       " 'raqqa_2015_02_02_zoom_19.tif',\n",
       " 'daraa_2011_10_17_zoom_19.tif',\n",
       " 'daraa_2017_02_07_zoom_19.tif',\n",
       " 'homs_2014_04_03_zoom_19.tif',\n",
       " 'homs_2011_05_21_zoom_19.tif',\n",
       " 'idlib_2011_07_31_zoom_19.tif',\n",
       " 'idlib_2016_08_01_zoom_19.tif',\n",
       " 'hama_2016_06_30_zoom_19.tif',\n",
       " 'hama_2012_02_22_zoom_19.tif',\n",
       " 'deir_2016_05_25_zoom_19.tif',\n",
       " 'deir_2012_12_05_zoom_19.tif']"
      ]
     },
     "execution_count": 4,
     "metadata": {},
     "output_type": "execute_result"
    }
   ],
   "source": [
    "good_files"
   ]
  },
  {
   "cell_type": "markdown",
   "metadata": {},
   "source": [
    "If images have the same dimensions, we could try to infer the coordinates from those images that work."
   ]
  },
  {
   "cell_type": "code",
   "execution_count": 7,
   "metadata": {},
   "outputs": [],
   "source": [
    "files = os.listdir('../data/city_rasters/')\n",
    "cities = ['aleppo', 'damascus', 'raqqa', 'daraa', 'homs', 'idlib', 'hama', 'deir']\n",
    "dimensions = []\n",
    "for city in cities:\n",
    "    city_files = [file for file in files if city in file]\n",
    "    for file in city_files:\n",
    "        raster = rasterio.open(f'../data/city_rasters/{file}')\n",
    "        dimensions.append({\n",
    "            'city': city,\n",
    "            'width': raster.width,\n",
    "            'height': raster.height,\n",
    "            'x_is_constant': is_x_constant(raster),\n",
    "            'y_is_constant': is_y_constant(raster)\n",
    "        })"
   ]
  },
  {
   "cell_type": "code",
   "execution_count": 11,
   "metadata": {},
   "outputs": [
    {
     "data": {
      "text/plain": [
       "city\n",
       "aleppo      [25088]\n",
       "damascus     [8192]\n",
       "daraa       [12032]\n",
       "deir        [11264]\n",
       "hama        [15616]\n",
       "homs        [18176]\n",
       "idlib        [8704]\n",
       "raqqa        [8960]\n",
       "Name: height, dtype: object"
      ]
     },
     "execution_count": 11,
     "metadata": {},
     "output_type": "execute_result"
    }
   ],
   "source": [
    "pd.DataFrame(dimensions).groupby('city')['height'].unique()"
   ]
  },
  {
   "cell_type": "code",
   "execution_count": 12,
   "metadata": {},
   "outputs": [
    {
     "data": {
      "text/plain": [
       "city\n",
       "aleppo      [37376]\n",
       "damascus    [11776]\n",
       "daraa       [13312]\n",
       "deir        [12032]\n",
       "hama        [15616]\n",
       "homs        [20736]\n",
       "idlib       [10752]\n",
       "raqqa       [23552]\n",
       "Name: width, dtype: object"
      ]
     },
     "execution_count": 12,
     "metadata": {},
     "output_type": "execute_result"
    }
   ],
   "source": [
    "pd.DataFrame(dimensions).groupby('city')['width'].unique()"
   ]
  },
  {
   "cell_type": "code",
   "execution_count": 5,
   "metadata": {},
   "outputs": [],
   "source": [
    "raster = rasterio.open(f'../data/test/homs_2016_05_30_v3/homs_2016_05_30_v3_zoom_19.tif')\n",
    "x_is_constant, y_is_constant = is_x_constant(raster), is_y_constant(raster)\n",
    "\n",
    "if x_is_constant or y_is_constant:\n",
    "    bad_files.append((file, x_is_constant, y_is_constant))\n",
    "\n",
    "if not x_is_constant and not y_is_constant:\n",
    "    good_files.append(file)"
   ]
  },
  {
   "cell_type": "code",
   "execution_count": 6,
   "metadata": {},
   "outputs": [
    {
     "data": {
      "text/plain": [
       "True"
      ]
     },
     "execution_count": 6,
     "metadata": {},
     "output_type": "execute_result"
    }
   ],
   "source": [
    "x_is_constant"
   ]
  },
  {
   "cell_type": "code",
   "execution_count": 8,
   "metadata": {},
   "outputs": [
    {
     "data": {
      "text/plain": [
       "(36.0, 34.0)"
      ]
     },
     "execution_count": 8,
     "metadata": {},
     "output_type": "execute_result"
    }
   ],
   "source": [
    "raster.xy(10000, 10000)"
   ]
  },
  {
   "cell_type": "code",
   "execution_count": null,
   "metadata": {},
   "outputs": [],
   "source": []
  }
 ],
 "metadata": {
  "kernelspec": {
   "display_name": "Python 3",
   "language": "python",
   "name": "python3"
  },
  "language_info": {
   "codemirror_mode": {
    "name": "ipython",
    "version": 3
   },
   "file_extension": ".py",
   "mimetype": "text/x-python",
   "name": "python",
   "nbconvert_exporter": "python",
   "pygments_lexer": "ipython3",
   "version": "3.7.1"
  }
 },
 "nbformat": 4,
 "nbformat_minor": 2
}
