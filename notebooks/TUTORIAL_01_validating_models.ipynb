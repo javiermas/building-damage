{
 "cells": [
  {
   "cell_type": "markdown",
   "metadata": {},
   "source": [
    "# Tutorial 01: Validating models"
   ]
  },
  {
   "cell_type": "markdown",
   "metadata": {},
   "source": [
    "In this notebook, we can see how to validate models. Note that it requires to have run the TUTORIAL_00 notebook first so we precompute the features that will be used in this notebook."
   ]
  },
  {
   "cell_type": "code",
   "execution_count": 10,
   "metadata": {},
   "outputs": [],
   "source": [
    "import json\n",
    "from math import ceil\n",
    "from time import time\n",
    "import pandas as pd\n",
    "from damage.data import DataStream\n",
    "from damage.models import CNN, RandomSearch"
   ]
  },
  {
   "cell_type": "code",
   "execution_count": 4,
   "metadata": {},
   "outputs": [
    {
     "data": {
      "text/html": [
       "<div>\n",
       "<style scoped>\n",
       "    .dataframe tbody tr th:only-of-type {\n",
       "        vertical-align: middle;\n",
       "    }\n",
       "\n",
       "    .dataframe tbody tr th {\n",
       "        vertical-align: top;\n",
       "    }\n",
       "\n",
       "    .dataframe thead th {\n",
       "        text-align: right;\n",
       "    }\n",
       "</style>\n",
       "<table border=\"1\" class=\"dataframe\">\n",
       "  <thead>\n",
       "    <tr style=\"text-align: right;\">\n",
       "      <th></th>\n",
       "      <th></th>\n",
       "      <th></th>\n",
       "      <th>damage_num</th>\n",
       "      <th>destroyed</th>\n",
       "      <th>raster_date</th>\n",
       "      <th>latitude</th>\n",
       "      <th>longitude</th>\n",
       "      <th>location_index</th>\n",
       "      <th>image</th>\n",
       "    </tr>\n",
       "    <tr>\n",
       "      <th>city</th>\n",
       "      <th>patch_id</th>\n",
       "      <th>date</th>\n",
       "      <th></th>\n",
       "      <th></th>\n",
       "      <th></th>\n",
       "      <th></th>\n",
       "      <th></th>\n",
       "      <th></th>\n",
       "      <th></th>\n",
       "    </tr>\n",
       "  </thead>\n",
       "  <tbody>\n",
       "    <tr>\n",
       "      <th rowspan=\"5\" valign=\"top\">daraa</th>\n",
       "      <th>960-3520</th>\n",
       "      <th>2013-09-07</th>\n",
       "      <td>0.0</td>\n",
       "      <td>0</td>\n",
       "      <td>2017-02-07</td>\n",
       "      <td>32.642095</td>\n",
       "      <td>36.073268</td>\n",
       "      <td>444970884350</td>\n",
       "      <td>[[[90, 73, 74, 33, 20, 16], [90, 77, 74, 16, 4...</td>\n",
       "    </tr>\n",
       "    <tr>\n",
       "      <th>1600-3520</th>\n",
       "      <th>2013-09-07</th>\n",
       "      <td>0.0</td>\n",
       "      <td>0</td>\n",
       "      <td>2017-02-07</td>\n",
       "      <td>32.642095</td>\n",
       "      <td>36.076701</td>\n",
       "      <td>444970884359</td>\n",
       "      <td>[[[107, 97, 90, 82, 61, 49], [107, 97, 90, 90,...</td>\n",
       "    </tr>\n",
       "    <tr>\n",
       "      <th>1600-4160</th>\n",
       "      <th>2013-09-07</th>\n",
       "      <td>0.0</td>\n",
       "      <td>0</td>\n",
       "      <td>2017-02-07</td>\n",
       "      <td>32.638662</td>\n",
       "      <td>36.076701</td>\n",
       "      <td>444958290923</td>\n",
       "      <td>[[[123, 121, 123, 99, 89, 82], [132, 125, 123,...</td>\n",
       "    </tr>\n",
       "    <tr>\n",
       "      <th>2240-3520</th>\n",
       "      <th>2013-09-07</th>\n",
       "      <td>0.0</td>\n",
       "      <td>0</td>\n",
       "      <td>2017-02-07</td>\n",
       "      <td>32.642095</td>\n",
       "      <td>36.080134</td>\n",
       "      <td>444970884368</td>\n",
       "      <td>[[[123, 121, 107, 255, 227, 206], [115, 117, 1...</td>\n",
       "    </tr>\n",
       "    <tr>\n",
       "      <th>2240-4160</th>\n",
       "      <th>2013-09-07</th>\n",
       "      <td>0.0</td>\n",
       "      <td>0</td>\n",
       "      <td>2017-02-07</td>\n",
       "      <td>32.638662</td>\n",
       "      <td>36.080134</td>\n",
       "      <td>444958290932</td>\n",
       "      <td>[[[189, 178, 173, 255, 178, 165], [156, 150, 1...</td>\n",
       "    </tr>\n",
       "  </tbody>\n",
       "</table>\n",
       "</div>"
      ],
      "text/plain": [
       "                            damage_num  destroyed raster_date   latitude  \\\n",
       "city  patch_id  date                                                       \n",
       "daraa 960-3520  2013-09-07         0.0          0  2017-02-07  32.642095   \n",
       "      1600-3520 2013-09-07         0.0          0  2017-02-07  32.642095   \n",
       "      1600-4160 2013-09-07         0.0          0  2017-02-07  32.638662   \n",
       "      2240-3520 2013-09-07         0.0          0  2017-02-07  32.642095   \n",
       "      2240-4160 2013-09-07         0.0          0  2017-02-07  32.638662   \n",
       "\n",
       "                            longitude  location_index  \\\n",
       "city  patch_id  date                                    \n",
       "daraa 960-3520  2013-09-07  36.073268    444970884350   \n",
       "      1600-3520 2013-09-07  36.076701    444970884359   \n",
       "      1600-4160 2013-09-07  36.076701    444958290923   \n",
       "      2240-3520 2013-09-07  36.080134    444970884368   \n",
       "      2240-4160 2013-09-07  36.080134    444958290932   \n",
       "\n",
       "                                                                        image  \n",
       "city  patch_id  date                                                           \n",
       "daraa 960-3520  2013-09-07  [[[90, 73, 74, 33, 20, 16], [90, 77, 74, 16, 4...  \n",
       "      1600-3520 2013-09-07  [[[107, 97, 90, 82, 61, 49], [107, 97, 90, 90,...  \n",
       "      1600-4160 2013-09-07  [[[123, 121, 123, 99, 89, 82], [132, 125, 123,...  \n",
       "      2240-3520 2013-09-07  [[[123, 121, 107, 255, 227, 206], [115, 117, 1...  \n",
       "      2240-4160 2013-09-07  [[[189, 178, 173, 255, 178, 165], [156, 150, 1...  "
      ]
     },
     "execution_count": 4,
     "metadata": {},
     "output_type": "execute_result"
    }
   ],
   "source": [
    "features = pd.read_pickle('../logs/features/test.p')\n",
    "features.head()"
   ]
  },
  {
   "cell_type": "markdown",
   "metadata": {},
   "source": [
    "We will make use of three custom classes: __RandomSearch__, __CNN__ and __DataStream__. __RandomSearch__ is a class that samples hyperparameters for ML models. As of may 2019, only the space for cnn's has been implemented. __CNN__ is a class that defines a Convolutional Neural Network model and follows the standards of Sklearn and Keras APIs, containing methods called fit, predict, fit_generator, predict_generator and validate_generator. In this case, we make use of the validate_generator method, which takes a generator of data as required by Keras's fit_generator method: each batch yields a tuple of (features, target). We use the __DataStream__ object to create these generators, first by generating the indices with the split_by_path_id method, which follows the standards of Sklearn splitters and then with the get_data_generator_from_index method that turns those indices into data generators."
   ]
  },
  {
   "cell_type": "code",
   "execution_count": 9,
   "metadata": {},
   "outputs": [
    {
     "name": "stdout",
     "output_type": "stream",
     "text": [
      "1/1 [==============================] - 14s 14s/step - loss: 0.0000e+00 - accuracy: 0.5000 - precision: 0.0000e+00 - recall: 0.0000e+00 - true_positives: 0.0000e+00 - true_negatives: 125.0000 - false_negatives: 0.0000e+00 - false_positives: 125.0000 - positives: 0.0000e+00 - negatives: 125.0000 - val_loss: 7.6666 - val_accuracy: 0.5000 - val_precision: 0.0000e+00 - val_recall: 0.0000e+00 - val_true_positives: 0.0000e+00 - val_true_negatives: 31.0000 - val_false_negatives: 0.0000e+00 - val_false_positives: 31.0000 - val_positives: 0.0000e+00 - val_negatives: 31.0000\n"
     ]
    },
    {
     "ename": "NameError",
     "evalue": "name 'time' is not defined",
     "output_type": "error",
     "traceback": [
      "\u001b[0;31m---------------------------------------------------------------------------\u001b[0m",
      "\u001b[0;31mNameError\u001b[0m                                 Traceback (most recent call last)",
      "\u001b[0;32m<ipython-input-9-1ba4bc210be1>\u001b[0m in \u001b[0;36m<module>\u001b[0;34m\u001b[0m\n\u001b[1;32m     25\u001b[0m     \u001b[0mlosses\u001b[0m\u001b[0;34m[\u001b[0m\u001b[0;34m'space'\u001b[0m\u001b[0;34m]\u001b[0m \u001b[0;34m=\u001b[0m \u001b[0mspace\u001b[0m\u001b[0;34m\u001b[0m\u001b[0;34m\u001b[0m\u001b[0m\n\u001b[1;32m     26\u001b[0m     \u001b[0mlosses\u001b[0m\u001b[0;34m[\u001b[0m\u001b[0;34m'features'\u001b[0m\u001b[0;34m]\u001b[0m \u001b[0;34m=\u001b[0m \u001b[0;34m'test.p'\u001b[0m\u001b[0;34m\u001b[0m\u001b[0;34m\u001b[0m\u001b[0m\n\u001b[0;32m---> 27\u001b[0;31m     \u001b[0;32mwith\u001b[0m \u001b[0mopen\u001b[0m\u001b[0;34m(\u001b[0m\u001b[0;34m'logs/experiments/test_{}.json'\u001b[0m\u001b[0;34m.\u001b[0m\u001b[0mformat\u001b[0m\u001b[0;34m(\u001b[0m\u001b[0mround\u001b[0m\u001b[0;34m(\u001b[0m\u001b[0mtime\u001b[0m\u001b[0;34m(\u001b[0m\u001b[0;34m)\u001b[0m\u001b[0;34m)\u001b[0m\u001b[0;34m)\u001b[0m\u001b[0;34m,\u001b[0m \u001b[0;34m'w'\u001b[0m\u001b[0;34m)\u001b[0m \u001b[0;32mas\u001b[0m \u001b[0mf\u001b[0m\u001b[0;34m:\u001b[0m\u001b[0;34m\u001b[0m\u001b[0;34m\u001b[0m\u001b[0m\n\u001b[0m\u001b[1;32m     28\u001b[0m         \u001b[0mjson\u001b[0m\u001b[0;34m.\u001b[0m\u001b[0mdump\u001b[0m\u001b[0;34m(\u001b[0m\u001b[0mstr\u001b[0m\u001b[0;34m(\u001b[0m\u001b[0mlosses\u001b[0m\u001b[0;34m)\u001b[0m\u001b[0;34m,\u001b[0m \u001b[0mf\u001b[0m\u001b[0;34m)\u001b[0m\u001b[0;34m\u001b[0m\u001b[0;34m\u001b[0m\u001b[0m\n",
      "\u001b[0;31mNameError\u001b[0m: name 'time' is not defined"
     ]
    }
   ],
   "source": [
    "#### Modelling\n",
    "sampler = RandomSearch()\n",
    "Model = CNN\n",
    "spaces = sampler.sample_cnn(1) # Only one space will be sampled for the purpose of the tutorial\n",
    "for space in spaces:\n",
    "    data_stream = DataStream(batch_size=space['batch_size'], train_proportion=0.8)\n",
    "    num_batches = ceil(len(features) / space['batch_size'])\n",
    "    train_index_generator, test_index_generator = data_stream.split_by_patch_id(features['image'])\n",
    "    train_generator = data_stream.get_data_generator_from_index(\n",
    "        [features['image'], features['destroyed']], train_index_generator)\n",
    "    test_indices = list(test_index_generator)\n",
    "    test_generator = data_stream.get_data_generator_from_index(\n",
    "        [features['image'], features['destroyed']], test_indices)\n",
    "    space['epochs'] = 1 # Epochs set to 1 for the tutorial\n",
    "    space['class_weight'] = {\n",
    "        0: features['destroyed'].mean(),\n",
    "        1: 1 - features['destroyed'].mean(),\n",
    "    }\n",
    "    model = Model(**space)\n",
    "    losses = model.validate_generator(train_generator, test_generator,\n",
    "                                      steps_per_epoch=num_batches,\n",
    "                                      validation_steps=1,\n",
    "                                      **space)\n",
    "    losses['model'] = str(Model)\n",
    "    losses['space'] = space\n",
    "    losses['features'] = 'test.p'\n",
    "    with open('logs/experiments/test_{}.json'.format(round(time())), 'w') as f:\n",
    "        json.dump(str(losses), f)"
   ]
  }
 ],
 "metadata": {
  "kernelspec": {
   "display_name": "Python 3",
   "language": "python",
   "name": "python3"
  },
  "language_info": {
   "codemirror_mode": {
    "name": "ipython",
    "version": 3
   },
   "file_extension": ".py",
   "mimetype": "text/x-python",
   "name": "python",
   "nbconvert_exporter": "python",
   "pygments_lexer": "ipython3",
   "version": "3.7.1"
  }
 },
 "nbformat": 4,
 "nbformat_minor": 2
}
