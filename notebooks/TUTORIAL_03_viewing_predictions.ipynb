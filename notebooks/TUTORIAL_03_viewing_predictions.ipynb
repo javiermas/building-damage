{
 "cells": [
  {
   "cell_type": "markdown",
   "metadata": {},
   "source": [
    "# Tutorial 03: Viewing predictions"
   ]
  },
  {
   "cell_type": "markdown",
   "metadata": {},
   "source": [
    "The process of viewing predictions consists basically on juxtaposing the predictions we created and the raster images. Therefore, we will need to load the rasters we used on the previous tutorials to compute the features and the predictions that we stored. Let's get started."
   ]
  },
  {
   "cell_type": "code",
   "execution_count": 1,
   "metadata": {},
   "outputs": [],
   "source": [
    "import pandas as pd\n",
    "import rasterio\n",
    "from matplotlib import pyplot as plt\n",
    "from datetime import date\n",
    "\n",
    "from damage.features import RasterSplitter\n",
    "\n",
    "def plot_image(image):\n",
    "    fix, ax = plt.subplots(figsize=(25, 25))\n",
    "    ax.imshow(image)\n",
    "    return ax"
   ]
  },
  {
   "cell_type": "code",
   "execution_count": 2,
   "metadata": {},
   "outputs": [],
   "source": [
    "raster_path = '../data/city_rasters'\n",
    "raster_file_name = 'aleppo_2016_10_19_zoom_19.tif'\n",
    "raster = rasterio.open('{}/{}'.format(raster_path, raster_file_name))\n",
    "raster_array = RasterSplitter._raster_to_array(raster)"
   ]
  },
  {
   "cell_type": "code",
   "execution_count": 3,
   "metadata": {},
   "outputs": [
    {
     "name": "stdout",
     "output_type": "stream",
     "text": [
      "(183652, 2)\n"
     ]
    },
    {
     "data": {
      "text/html": [
       "<div>\n",
       "<style scoped>\n",
       "    .dataframe tbody tr th:only-of-type {\n",
       "        vertical-align: middle;\n",
       "    }\n",
       "\n",
       "    .dataframe tbody tr th {\n",
       "        vertical-align: top;\n",
       "    }\n",
       "\n",
       "    .dataframe thead th {\n",
       "        text-align: right;\n",
       "    }\n",
       "</style>\n",
       "<table border=\"1\" class=\"dataframe\">\n",
       "  <thead>\n",
       "    <tr style=\"text-align: right;\">\n",
       "      <th></th>\n",
       "      <th></th>\n",
       "      <th></th>\n",
       "      <th>prediction</th>\n",
       "      <th>prediction_binary</th>\n",
       "    </tr>\n",
       "    <tr>\n",
       "      <th>city</th>\n",
       "      <th>patch_id</th>\n",
       "      <th>date</th>\n",
       "      <th></th>\n",
       "      <th></th>\n",
       "    </tr>\n",
       "  </thead>\n",
       "  <tbody>\n",
       "    <tr>\n",
       "      <th rowspan=\"5\" valign=\"top\">aleppo</th>\n",
       "      <th rowspan=\"5\" valign=\"top\">10016-10080</th>\n",
       "      <th>2013-09-23</th>\n",
       "      <td>0.090925</td>\n",
       "      <td>0</td>\n",
       "    </tr>\n",
       "    <tr>\n",
       "      <th>2013-10-31</th>\n",
       "      <td>0.028240</td>\n",
       "      <td>0</td>\n",
       "    </tr>\n",
       "    <tr>\n",
       "      <th>2014-05-23</th>\n",
       "      <td>0.014604</td>\n",
       "      <td>0</td>\n",
       "    </tr>\n",
       "    <tr>\n",
       "      <th>2014-07-14</th>\n",
       "      <td>0.284859</td>\n",
       "      <td>0</td>\n",
       "    </tr>\n",
       "    <tr>\n",
       "      <th>2015-10-26</th>\n",
       "      <td>0.210888</td>\n",
       "      <td>0</td>\n",
       "    </tr>\n",
       "  </tbody>\n",
       "</table>\n",
       "</div>"
      ],
      "text/plain": [
       "                               prediction  prediction_binary\n",
       "city   patch_id    date                                     \n",
       "aleppo 10016-10080 2013-09-23    0.090925                  0\n",
       "                   2013-10-31    0.028240                  0\n",
       "                   2014-05-23    0.014604                  0\n",
       "                   2014-07-14    0.284859                  0\n",
       "                   2015-10-26    0.210888                  0"
      ]
     },
     "execution_count": 3,
     "metadata": {},
     "output_type": "execute_result"
    }
   ],
   "source": [
    "path = '../logs/predictions'\n",
    "file_name = 'prediction_1560967712.p'\n",
    "results = pd.read_pickle('{}/{}'.format(path, file_name))\n",
    "results['prediction_binary'] = (results['prediction'] > 0.5) * 1\n",
    "print(results.shape)\n",
    "results.head()"
   ]
  },
  {
   "cell_type": "code",
   "execution_count": null,
   "metadata": {},
   "outputs": [],
   "source": [
    "results['prediction_binary'].mean()"
   ]
  },
  {
   "cell_type": "code",
   "execution_count": null,
   "metadata": {},
   "outputs": [],
   "source": [
    "path = '../logs/features'\n",
    "file_name = 'target_aleppo.p'\n",
    "target = pd.read_pickle('{}/{}'.format(path, file_name))\n",
    "#target = target.xs(date(2017, 2, 7), level='date')\n",
    "print(target.shape)\n",
    "target.head()"
   ]
  },
  {
   "cell_type": "code",
   "execution_count": null,
   "metadata": {},
   "outputs": [],
   "source": [
    "target.mean()"
   ]
  },
  {
   "cell_type": "code",
   "execution_count": null,
   "metadata": {},
   "outputs": [],
   "source": [
    "fig, ax = plt.subplots(figsize=(20, 5))\n",
    "ax.hist(results['prediction'], bins=20)\n",
    "plt.show()"
   ]
  },
  {
   "cell_type": "markdown",
   "metadata": {},
   "source": [
    "### Real data"
   ]
  },
  {
   "cell_type": "code",
   "execution_count": null,
   "metadata": {},
   "outputs": [],
   "source": [
    "single_date = date(2016, 10, 19)\n",
    "target_single_date = target.xs(single_date, level='date')\n",
    "target_destroyed = target_single_date.loc[target_single_date == 1]\n",
    "target_non_destroyed = target_single_date.loc[target_single_date == 0]\n",
    "patches_destroyed = pd.DataFrame([elem[1].split('-') for elem in target_destroyed.index.tolist()], columns=['row', 'column']).astype(int)\n",
    "patches_non_destroyed = pd.DataFrame([elem[1].split('-') for elem in target_non_destroyed.index.tolist()], columns=['row', 'column']).astype(int)"
   ]
  },
  {
   "cell_type": "code",
   "execution_count": null,
   "metadata": {},
   "outputs": [],
   "source": [
    "ax = plot_image(raster_array)\n",
    "ax.scatter(patches_destroyed['row'], patches_destroyed['column'], color='r', label='destroyed', alpha=0.6, s=1, marker='s')\n",
    "ax.scatter(patches_non_destroyed['row'], patches_non_destroyed['column'], color='g', label='non-destroyed', alpha=0.6, s=1, marker='s')\n",
    "plt.legend()\n",
    "plt.savefig(f'../figures/aleppo_target_{str(single_date)}.pdf', dpi=500)"
   ]
  },
  {
   "cell_type": "markdown",
   "metadata": {},
   "source": [
    "### Predicted"
   ]
  },
  {
   "cell_type": "code",
   "execution_count": null,
   "metadata": {},
   "outputs": [],
   "source": [
    "results_single_date = results.xs(date(2016, 10, 19), level='date')\n",
    "prediction_destroyed = results_single_date.loc[results_single_date['prediction_binary'] == 1]\n",
    "prediction_non_destroyed = results_single_date.loc[results_single_date['prediction_binary'] == 0]\n",
    "patches_destroyed = pd.DataFrame([elem[1].split('-') for elem in prediction_destroyed.index.tolist()], columns=['row', 'column']).astype(int)\n",
    "patches_non_destroyed = pd.DataFrame([elem[1].split('-') for elem in prediction_non_destroyed.index.tolist()], columns=['row', 'column']).astype(int)"
   ]
  },
  {
   "cell_type": "code",
   "execution_count": null,
   "metadata": {},
   "outputs": [],
   "source": [
    "ax = plot_image(raster_array)\n",
    "ax.scatter(patches_destroyed['row'], patches_destroyed['column'], color='r', label='prediction destroyed', alpha=0.8, s=2.2, marker='s')\n",
    "ax.scatter(patches_non_destroyed['row'], patches_non_destroyed['column'], color='g', label='prediction non-destroyed', alpha=0.8, s=2.2, marker='s')\n",
    "plt.legend()\n",
    "plt.savefig(f'../figures/aleppo_predicted_destruction_{str(single_date)}.pdf', dpi=500)"
   ]
  },
  {
   "cell_type": "markdown",
   "metadata": {},
   "source": [
    "### Correct predictions"
   ]
  },
  {
   "cell_type": "code",
   "execution_count": null,
   "metadata": {},
   "outputs": [],
   "source": [
    "correct_destroyed = target.loc[(target['destroyed'] == 1) & (results['prediction_binary'] == 1)]\n",
    "correct_non_destroyed = target.loc[(target['destroyed'] == 0) & (results['prediction_binary'] == 0)]\n",
    "patches_destroyed = pd.DataFrame([elem[1].split('-') for elem in correct_destroyed.index.tolist()], columns=['row', 'column']).astype(int)\n",
    "patches_non_destroyed = pd.DataFrame([elem[1].split('-') for elem in correct_non_destroyed.index.tolist()], columns=['row', 'column']).astype(int)"
   ]
  },
  {
   "cell_type": "code",
   "execution_count": null,
   "metadata": {},
   "outputs": [],
   "source": [
    "ax = plot_image(raster_array)\n",
    "ax.scatter(patches_destroyed['row'], patches_destroyed['column'], color='r', label='prediction destroyed', alpha=0.9)\n",
    "ax.scatter(patches_non_destroyed['row'], patches_non_destroyed['column'], color='g', label='prediction non-destroyed', alpha=0.9)\n",
    "plt.legend()"
   ]
  },
  {
   "cell_type": "code",
   "execution_count": null,
   "metadata": {},
   "outputs": [],
   "source": []
  },
  {
   "cell_type": "markdown",
   "metadata": {},
   "source": [
    "### Incorrect predictions"
   ]
  },
  {
   "cell_type": "code",
   "execution_count": null,
   "metadata": {},
   "outputs": [],
   "source": [
    "incorrect_destroyed = target.loc[(target['destroyed'] == 1) & (results['prediction_binary'] == 0)]\n",
    "incorrect_non_destroyed = target.loc[(target['destroyed'] == 0) & (results['prediction_binary'] == 1)]\n",
    "patches_destroyed = pd.DataFrame([elem[1].split('-') for elem in incorrect_destroyed.index.tolist()], columns=['row', 'column']).astype(int)\n",
    "patches_non_destroyed = pd.DataFrame([elem[1].split('-') for elem in incorrect_non_destroyed.index.tolist()], columns=['row', 'column']).astype(int)"
   ]
  },
  {
   "cell_type": "code",
   "execution_count": null,
   "metadata": {},
   "outputs": [],
   "source": [
    "ax = plot_image(raster_array)\n",
    "ax.scatter(patches_destroyed['row'], patches_destroyed['column'], color='r', label='prediction destroyed', alpha=0.9)\n",
    "ax.scatter(patches_non_destroyed['row'], patches_non_destroyed['column'], color='g', label='prediction non-destroyed', alpha=0.9)\n",
    "plt.legend()"
   ]
  },
  {
   "cell_type": "markdown",
   "metadata": {},
   "source": [
    "## Evolution of destruction over time"
   ]
  },
  {
   "cell_type": "code",
   "execution_count": 14,
   "metadata": {},
   "outputs": [],
   "source": [
    "plt.ioff()\n",
    "\n",
    "features_path = '../logs/features/target_aleppo.p'\n",
    "target = pd.read_pickle(features_path)\n",
    "for date in target.index.get_level_values('date').unique():\n",
    "    raster_path = f\"../data/city_rasters/aleppo_{str(date.date()).replace('-', '_')}_zoom_19.tif\"\n",
    "    raster = rasterio.open(raster_path)\n",
    "    raster_array = RasterSplitter._raster_to_array(raster)\n",
    "    _target = target.xs(date, level='date')\n",
    "    prediction_destroyed = _target.loc[_target == 1]\n",
    "    prediction_non_destroyed = _target.loc[_target == 0]\n",
    "    patches_destroyed = pd.DataFrame([elem[1].split('-') for elem in prediction_destroyed.index.tolist()], columns=['row', 'column']).astype(int)\n",
    "    patches_non_destroyed = pd.DataFrame([elem[1].split('-') for elem in prediction_non_destroyed.index.tolist()], columns=['row', 'column']).astype(int)\n",
    "    ax = plot_image(raster_array)\n",
    "    s = 10000/raster_array.shape[0]\n",
    "    ax.scatter(patches_destroyed['row'], patches_destroyed['column'], color='r', label='destroyed', alpha=0.8, s=s, marker='s')\n",
    "    ax.scatter(patches_non_destroyed['row'], patches_non_destroyed['column'], color='g', label='non-destroyed', alpha=0.8, s=s, marker='s')\n",
    "    plt.legend()\n",
    "    plt.savefig(f'../figures/target_aleppo_{str(date)}.pdf', dpi=500)"
   ]
  },
  {
   "cell_type": "code",
   "execution_count": 12,
   "metadata": {},
   "outputs": [
    {
     "data": {
      "text/plain": [
       "'2013_05_26'"
      ]
     },
     "execution_count": 12,
     "metadata": {},
     "output_type": "execute_result"
    }
   ],
   "source": []
  },
  {
   "cell_type": "code",
   "execution_count": null,
   "metadata": {},
   "outputs": [],
   "source": [
    "10000/raster_array.shape[0]"
   ]
  },
  {
   "cell_type": "code",
   "execution_count": null,
   "metadata": {},
   "outputs": [],
   "source": [
    "raster_array.shape[0]/500"
   ]
  },
  {
   "cell_type": "markdown",
   "metadata": {},
   "source": [
    "## Evolution of predictions over time"
   ]
  },
  {
   "cell_type": "code",
   "execution_count": null,
   "metadata": {},
   "outputs": [],
   "source": [
    "path = '../logs/predictions'\n",
    "file_name = 'prediction_1559990087.p'\n",
    "results = pd.read_pickle('{}/{}'.format(path, file_name))\n",
    "results['prediction_binary'] = (results['prediction'] > 0.5) * 1\n",
    "for date in results.index.get_level_values('date').unique():\n",
    "    _results = results.xs(date, level='date')\n",
    "    prediction_destroyed = _results.loc[_results['prediction_binary'] == 1]\n",
    "    prediction_non_destroyed = _results.loc[_results['prediction_binary'] == 0]\n",
    "    patches_destroyed = pd.DataFrame([elem[1].split('-') for elem in prediction_destroyed.index.tolist()], columns=['row', 'column']).astype(int)\n",
    "    patches_non_destroyed = pd.DataFrame([elem[1].split('-') for elem in prediction_non_destroyed.index.tolist()], columns=['row', 'column']).astype(int)\n",
    "    ax = plot_image(raster_array)\n",
    "    ax.scatter(patches_destroyed['row'], patches_destroyed['column'], color='r', label='prediction destroyed', alpha=0.4, s=1, marker='s')\n",
    "    ax.scatter(patches_non_destroyed['row'], patches_non_destroyed['column'], color='g', label='prediction non-destroyed', alpha=0.4, s=1, marker='s')\n",
    "    plt.legend()\n",
    "    plt.savefig(f'prediction_{str(date)}.pdf', dpi=200)"
   ]
  },
  {
   "cell_type": "code",
   "execution_count": null,
   "metadata": {},
   "outputs": [],
   "source": []
  }
 ],
 "metadata": {
  "kernelspec": {
   "display_name": "Python 3",
   "language": "python",
   "name": "python3"
  },
  "language_info": {
   "codemirror_mode": {
    "name": "ipython",
    "version": 3
   },
   "file_extension": ".py",
   "mimetype": "text/x-python",
   "name": "python",
   "nbconvert_exporter": "python",
   "pygments_lexer": "ipython3",
   "version": "3.7.1"
  }
 },
 "nbformat": 4,
 "nbformat_minor": 2
}
