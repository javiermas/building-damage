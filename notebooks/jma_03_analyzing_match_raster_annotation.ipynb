{
 "cells": [
  {
   "cell_type": "code",
   "execution_count": 23,
   "metadata": {},
   "outputs": [
    {
     "name": "stdout",
     "output_type": "stream",
     "text": [
      "The autoreload extension is already loaded. To reload it, use:\n",
      "  %reload_ext autoreload\n"
     ]
    }
   ],
   "source": [
    "%load_ext autoreload\n",
    "%autoreload 2\n",
    "import geopandas as gpd\n",
    "import rasterio\n",
    "import pandas as pd\n",
    "from damage import features\n",
    "from damage.data import Raster\n",
    "\n",
    "def crop_annotation_to_image_dimensions(annotation_data, dimensions):\n",
    "    mask = (annotation_data['row'] < dimensions['height'])\\\n",
    "        & (annotation_data['row'] >= 0)\\\n",
    "        & (annotation_data['column'] < dimensions['width'])\\\n",
    "        & (annotation_data['column'] >= 0)\n",
    "    return annotation_data.loc[mask]"
   ]
  },
  {
   "cell_type": "code",
   "execution_count": 13,
   "metadata": {},
   "outputs": [],
   "source": [
    "annotations = gpd.read_file('../data/annotations/4_Damage_Sites_Daraa_CDA.shp')\n",
    "annotations['longitude'] = annotations['geometry'].apply(lambda x: x.x)\n",
    "annotations['latitude'] = annotations['geometry'].apply(lambda x: x.y)\n",
    "raster_daraa = rasterio.open('../data/city_rasters/daraa_2011_10_17_zoom_19.tif')\n",
    "columns, rows = raster_daraa.index(annotations['longitude'], annotations['latitude'])\n",
    "annotations['column'] = columns\n",
    "annotations['row'] = rows\n",
    "annotations = crop_annotation_to_image_dimensions(annotations, {'width': raster_daraa.width, 'height': raster_daraa.height})\n",
    "no_analysis = gpd.read_file('../data/polygons/5_No_Analysis_Areas_Daraa.shp')\n",
    "populated_areas = gpd.read_file('../data/polygons/populated_areas.shp')\n",
    "populated_areas['NAME_EN'] = populated_areas['NAME_EN'].str.lower()"
   ]
  },
  {
   "cell_type": "code",
   "execution_count": 15,
   "metadata": {},
   "outputs": [
    {
     "name": "stdout",
     "output_type": "stream",
     "text": [
      "> \u001b[0;32m/Users/yc00031/repos/syria/damage/features/raster_splitter.py\u001b[0m(43)\u001b[0;36m_split_raster_data\u001b[0;34m()\u001b[0m\n",
      "\u001b[0;32m     42 \u001b[0;31m            \u001b[0;32mimport\u001b[0m \u001b[0mipdb\u001b[0m\u001b[0;34m;\u001b[0m \u001b[0mipdb\u001b[0m\u001b[0;34m.\u001b[0m\u001b[0mset_trace\u001b[0m\u001b[0;34m(\u001b[0m\u001b[0;34m)\u001b[0m\u001b[0;34m\u001b[0m\u001b[0;34m\u001b[0m\u001b[0m\n",
      "\u001b[0m\u001b[0;32m---> 43 \u001b[0;31m            \u001b[0;32mfor\u001b[0m \u001b[0mw\u001b[0m \u001b[0;32min\u001b[0m \u001b[0mtqdm\u001b[0m\u001b[0;34m(\u001b[0m\u001b[0mrange\u001b[0m\u001b[0;34m(\u001b[0m\u001b[0mself\u001b[0m\u001b[0;34m.\u001b[0m\u001b[0mtile_size\u001b[0m\u001b[0;34m//\u001b[0m\u001b[0;36m2\u001b[0m\u001b[0;34m,\u001b[0m \u001b[0;34m(\u001b[0m\u001b[0mraster\u001b[0m\u001b[0;34m.\u001b[0m\u001b[0mwidth\u001b[0m \u001b[0;34m-\u001b[0m \u001b[0mself\u001b[0m\u001b[0;34m.\u001b[0m\u001b[0mtile_size\u001b[0m\u001b[0;34m//\u001b[0m\u001b[0;36m2\u001b[0m\u001b[0;34m)\u001b[0m\u001b[0;34m,\u001b[0m \u001b[0mself\u001b[0m\u001b[0;34m.\u001b[0m\u001b[0mstride\u001b[0m\u001b[0;34m)\u001b[0m\u001b[0;34m)\u001b[0m\u001b[0;34m:\u001b[0m\u001b[0;34m\u001b[0m\u001b[0;34m\u001b[0m\u001b[0m\n",
      "\u001b[0m\u001b[0;32m     44 \u001b[0;31m                \u001b[0;32mfor\u001b[0m \u001b[0mh\u001b[0m \u001b[0;32min\u001b[0m \u001b[0mrange\u001b[0m\u001b[0;34m(\u001b[0m\u001b[0mself\u001b[0m\u001b[0;34m.\u001b[0m\u001b[0mtile_size\u001b[0m\u001b[0;34m//\u001b[0m\u001b[0;36m2\u001b[0m\u001b[0;34m,\u001b[0m \u001b[0;34m(\u001b[0m\u001b[0mraster\u001b[0m\u001b[0;34m.\u001b[0m\u001b[0mheight\u001b[0m \u001b[0;34m-\u001b[0m \u001b[0mself\u001b[0m\u001b[0;34m.\u001b[0m\u001b[0mtile_size\u001b[0m\u001b[0;34m//\u001b[0m\u001b[0;36m2\u001b[0m\u001b[0;34m)\u001b[0m\u001b[0;34m,\u001b[0m \u001b[0mself\u001b[0m\u001b[0;34m.\u001b[0m\u001b[0mstride\u001b[0m\u001b[0;34m)\u001b[0m\u001b[0;34m:\u001b[0m\u001b[0;34m\u001b[0m\u001b[0;34m\u001b[0m\u001b[0m\n",
      "\u001b[0m\n"
     ]
    },
    {
     "name": "stdin",
     "output_type": "stream",
     "text": [
      "ipdb>  c\n"
     ]
    },
    {
     "name": "stderr",
     "output_type": "stream",
     "text": [
      "100%|██████████| 207/207 [00:30<00:00,  6.76it/s]\n"
     ]
    },
    {
     "name": "stdout",
     "output_type": "stream",
     "text": [
      "> \u001b[0;32m/Users/yc00031/repos/syria/damage/features/raster_splitter.py\u001b[0m(20)\u001b[0;36mtransform\u001b[0;34m()\u001b[0m\n",
      "\u001b[0;32m     19 \u001b[0;31m        \u001b[0;32mimport\u001b[0m \u001b[0mipdb\u001b[0m\u001b[0;34m;\u001b[0m \u001b[0mipdb\u001b[0m\u001b[0;34m.\u001b[0m\u001b[0mset_trace\u001b[0m\u001b[0;34m(\u001b[0m\u001b[0;34m)\u001b[0m\u001b[0;34m\u001b[0m\u001b[0;34m\u001b[0m\u001b[0m\n",
      "\u001b[0m\u001b[0;32m---> 20 \u001b[0;31m        tiles['location_index'] = geo_location_index(tiles['longitude'], tiles['latitude'],\n",
      "\u001b[0m\u001b[0;32m     21 \u001b[0;31m                                                     grid_size=self.grid_size)\n",
      "\u001b[0m\n"
     ]
    },
    {
     "name": "stdin",
     "output_type": "stream",
     "text": [
      "ipdb>  c\n"
     ]
    }
   ],
   "source": [
    "data = {\n",
    "    'raster_daraa_2011_10_17_zoom_19.tif': Raster('../data/city_rasters/daraa_2011_10_17_zoom_19.tif'),\n",
    "    'no_analysis': no_analysis,\n",
    "    'populated_areas': populated_areas,\n",
    "    'annotations': annotations,\n",
    "}\n",
    "annotation_preprocessor = features.AnnotationPreprocessor()\n",
    "data = annotation_preprocessor.transform(data)\n",
    "\n",
    "tile_size = 64\n",
    "stride = tile_size\n",
    "raster_splitter = features.RasterSplitter(tile_size=tile_size, stride=stride)\n",
    "raster_split = raster_splitter.transform(data)"
   ]
  },
  {
   "cell_type": "code",
   "execution_count": 18,
   "metadata": {},
   "outputs": [
    {
     "data": {
      "text/html": [
       "<div>\n",
       "<style scoped>\n",
       "    .dataframe tbody tr th:only-of-type {\n",
       "        vertical-align: middle;\n",
       "    }\n",
       "\n",
       "    .dataframe tbody tr th {\n",
       "        vertical-align: top;\n",
       "    }\n",
       "\n",
       "    .dataframe thead th {\n",
       "        text-align: right;\n",
       "    }\n",
       "</style>\n",
       "<table border=\"1\" class=\"dataframe\">\n",
       "  <thead>\n",
       "    <tr style=\"text-align: right;\">\n",
       "      <th></th>\n",
       "      <th>city</th>\n",
       "      <th>date</th>\n",
       "      <th>image</th>\n",
       "      <th>latitude</th>\n",
       "      <th>longitude</th>\n",
       "      <th>split_id</th>\n",
       "      <th>location_index</th>\n",
       "    </tr>\n",
       "  </thead>\n",
       "  <tbody>\n",
       "    <tr>\n",
       "      <th>0</th>\n",
       "      <td>daraa</td>\n",
       "      <td>2011-10-17</td>\n",
       "      <td>[[[90.0, 61.0, 49.0], [90.0, 65.0, 58.0], [99....</td>\n",
       "      <td>32.642610</td>\n",
       "      <td>36.073439</td>\n",
       "      <td>992-3424</td>\n",
       "      <td>457420059100</td>\n",
       "    </tr>\n",
       "    <tr>\n",
       "      <th>1</th>\n",
       "      <td>daraa</td>\n",
       "      <td>2011-10-17</td>\n",
       "      <td>[[[99.0, 65.0, 58.0], [99.0, 65.0, 58.0], [107...</td>\n",
       "      <td>32.642610</td>\n",
       "      <td>36.073783</td>\n",
       "      <td>1056-3424</td>\n",
       "      <td>457421203958</td>\n",
       "    </tr>\n",
       "    <tr>\n",
       "      <th>2</th>\n",
       "      <td>daraa</td>\n",
       "      <td>2011-10-17</td>\n",
       "      <td>[[[90.0, 65.0, 58.0], [107.0, 77.0, 66.0], [11...</td>\n",
       "      <td>32.642610</td>\n",
       "      <td>36.074126</td>\n",
       "      <td>1120-3424</td>\n",
       "      <td>457422348816</td>\n",
       "    </tr>\n",
       "    <tr>\n",
       "      <th>3</th>\n",
       "      <td>daraa</td>\n",
       "      <td>2011-10-17</td>\n",
       "      <td>[[[74.0, 53.0, 41.0], [99.0, 69.0, 58.0], [123...</td>\n",
       "      <td>32.637803</td>\n",
       "      <td>36.074126</td>\n",
       "      <td>1120-4320</td>\n",
       "      <td>457422348804</td>\n",
       "    </tr>\n",
       "    <tr>\n",
       "      <th>4</th>\n",
       "      <td>daraa</td>\n",
       "      <td>2011-10-17</td>\n",
       "      <td>[[[99.0, 69.0, 66.0], [99.0, 65.0, 58.0], [99....</td>\n",
       "      <td>32.643640</td>\n",
       "      <td>36.074469</td>\n",
       "      <td>1184-3232</td>\n",
       "      <td>457424638534</td>\n",
       "    </tr>\n",
       "  </tbody>\n",
       "</table>\n",
       "</div>"
      ],
      "text/plain": [
       "    city        date                                              image  \\\n",
       "0  daraa  2011-10-17  [[[90.0, 61.0, 49.0], [90.0, 65.0, 58.0], [99....   \n",
       "1  daraa  2011-10-17  [[[99.0, 65.0, 58.0], [99.0, 65.0, 58.0], [107...   \n",
       "2  daraa  2011-10-17  [[[90.0, 65.0, 58.0], [107.0, 77.0, 66.0], [11...   \n",
       "3  daraa  2011-10-17  [[[74.0, 53.0, 41.0], [99.0, 69.0, 58.0], [123...   \n",
       "4  daraa  2011-10-17  [[[99.0, 69.0, 66.0], [99.0, 65.0, 58.0], [99....   \n",
       "\n",
       "    latitude  longitude   split_id  location_index  \n",
       "0  32.642610  36.073439   992-3424    457420059100  \n",
       "1  32.642610  36.073783  1056-3424    457421203958  \n",
       "2  32.642610  36.074126  1120-3424    457422348816  \n",
       "3  32.637803  36.074126  1120-4320    457422348804  \n",
       "4  32.643640  36.074469  1184-3232    457424638534  "
      ]
     },
     "execution_count": 18,
     "metadata": {},
     "output_type": "execute_result"
    }
   ],
   "source": [
    "raster_split.head()"
   ]
  },
  {
   "cell_type": "code",
   "execution_count": 20,
   "metadata": {},
   "outputs": [
    {
     "data": {
      "text/html": [
       "<div>\n",
       "<style scoped>\n",
       "    .dataframe tbody tr th:only-of-type {\n",
       "        vertical-align: middle;\n",
       "    }\n",
       "\n",
       "    .dataframe tbody tr th {\n",
       "        vertical-align: top;\n",
       "    }\n",
       "\n",
       "    .dataframe thead th {\n",
       "        text-align: right;\n",
       "    }\n",
       "</style>\n",
       "<table border=\"1\" class=\"dataframe\">\n",
       "  <thead>\n",
       "    <tr style=\"text-align: right;\">\n",
       "      <th></th>\n",
       "      <th>SiteID</th>\n",
       "      <th>SensDt</th>\n",
       "      <th>SensorID</th>\n",
       "      <th>ConfID</th>\n",
       "      <th>DmgCls</th>\n",
       "      <th>SensDt_2</th>\n",
       "      <th>SensID_2</th>\n",
       "      <th>ConfID_2</th>\n",
       "      <th>DmgCls_2</th>\n",
       "      <th>DmgSts_2</th>\n",
       "      <th>...</th>\n",
       "      <th>Notes</th>\n",
       "      <th>StlmtNme</th>\n",
       "      <th>Neighbrhd</th>\n",
       "      <th>EventCode</th>\n",
       "      <th>geometry</th>\n",
       "      <th>longitude</th>\n",
       "      <th>latitude</th>\n",
       "      <th>column</th>\n",
       "      <th>row</th>\n",
       "      <th>location_index</th>\n",
       "    </tr>\n",
       "  </thead>\n",
       "  <tbody>\n",
       "    <tr>\n",
       "      <th>0</th>\n",
       "      <td>Mosque</td>\n",
       "      <td>2013-09-07</td>\n",
       "      <td>Worldview-2</td>\n",
       "      <td>Very High</td>\n",
       "      <td>Severe Damage</td>\n",
       "      <td>2014-05-01</td>\n",
       "      <td>Worldview-2</td>\n",
       "      <td>Very High</td>\n",
       "      <td>Severe Damage</td>\n",
       "      <td>No change</td>\n",
       "      <td>...</td>\n",
       "      <td>Omari Mosque (destroyed minaret)</td>\n",
       "      <td>Daraa</td>\n",
       "      <td>Dar'a al-Balad</td>\n",
       "      <td>CE20130604SYR</td>\n",
       "      <td>POINT (36.10085583300008 32.61267652900005)</td>\n",
       "      <td>36.100856</td>\n",
       "      <td>32.612677</td>\n",
       "      <td>9004</td>\n",
       "      <td>6103</td>\n",
       "      <td>444864412648</td>\n",
       "    </tr>\n",
       "    <tr>\n",
       "      <th>1</th>\n",
       "      <td>Building (General / Default)</td>\n",
       "      <td>2013-09-07</td>\n",
       "      <td>Worldview-2</td>\n",
       "      <td>Very High</td>\n",
       "      <td>Severe Damage</td>\n",
       "      <td>2014-05-01</td>\n",
       "      <td>Worldview-2</td>\n",
       "      <td>Very High</td>\n",
       "      <td>Severe Damage</td>\n",
       "      <td>No change</td>\n",
       "      <td>...</td>\n",
       "      <td>&lt;Null&gt;</td>\n",
       "      <td>Daraa</td>\n",
       "      <td>Dar'a al-Balad</td>\n",
       "      <td>CE20130604SYR</td>\n",
       "      <td>POINT (36.10088763300007 32.61285126300004)</td>\n",
       "      <td>36.100888</td>\n",
       "      <td>32.612851</td>\n",
       "      <td>8971</td>\n",
       "      <td>6109</td>\n",
       "      <td>444864412648</td>\n",
       "    </tr>\n",
       "    <tr>\n",
       "      <th>2</th>\n",
       "      <td>Building (General / Default)</td>\n",
       "      <td>2013-09-07</td>\n",
       "      <td>Worldview-2</td>\n",
       "      <td>Medium</td>\n",
       "      <td>Moderate Damage</td>\n",
       "      <td>2014-05-01</td>\n",
       "      <td>Worldview-2</td>\n",
       "      <td>Medium</td>\n",
       "      <td>Moderate Damage</td>\n",
       "      <td>No change</td>\n",
       "      <td>...</td>\n",
       "      <td>&lt;Null&gt;</td>\n",
       "      <td>Daraa</td>\n",
       "      <td>Dar'a al-Balad</td>\n",
       "      <td>CE20130604SYR</td>\n",
       "      <td>POINT (36.10061228100005 32.61282301800009)</td>\n",
       "      <td>36.100612</td>\n",
       "      <td>32.612823</td>\n",
       "      <td>8977</td>\n",
       "      <td>6057</td>\n",
       "      <td>444864412647</td>\n",
       "    </tr>\n",
       "    <tr>\n",
       "      <th>3</th>\n",
       "      <td>Building (General / Default)</td>\n",
       "      <td>2013-09-07</td>\n",
       "      <td>Worldview-2</td>\n",
       "      <td>Very High</td>\n",
       "      <td>Severe Damage</td>\n",
       "      <td>2014-05-01</td>\n",
       "      <td>Worldview-2</td>\n",
       "      <td>Very High</td>\n",
       "      <td>Severe Damage</td>\n",
       "      <td>No change</td>\n",
       "      <td>...</td>\n",
       "      <td>&lt;Null&gt;</td>\n",
       "      <td>Daraa</td>\n",
       "      <td>Dar'a al-Balad</td>\n",
       "      <td>CE20130604SYR</td>\n",
       "      <td>POINT (36.10040312800004 32.61289420500009)</td>\n",
       "      <td>36.100403</td>\n",
       "      <td>32.612894</td>\n",
       "      <td>8963</td>\n",
       "      <td>6018</td>\n",
       "      <td>444864412647</td>\n",
       "    </tr>\n",
       "    <tr>\n",
       "      <th>4</th>\n",
       "      <td>Building (General / Default)</td>\n",
       "      <td>2013-09-07</td>\n",
       "      <td>Worldview-2</td>\n",
       "      <td>Uncertain</td>\n",
       "      <td>Moderate Damage</td>\n",
       "      <td>2014-05-01</td>\n",
       "      <td>Worldview-2</td>\n",
       "      <td>Uncertain</td>\n",
       "      <td>Moderate Damage</td>\n",
       "      <td>No change</td>\n",
       "      <td>...</td>\n",
       "      <td>&lt;Null&gt;</td>\n",
       "      <td>Daraa</td>\n",
       "      <td>Dar'a al-Balad</td>\n",
       "      <td>CE20130604SYR</td>\n",
       "      <td>POINT (36.10014904700006 32.61300812300004)</td>\n",
       "      <td>36.100149</td>\n",
       "      <td>32.613008</td>\n",
       "      <td>8942</td>\n",
       "      <td>5971</td>\n",
       "      <td>444865557504</td>\n",
       "    </tr>\n",
       "  </tbody>\n",
       "</table>\n",
       "<p>5 rows × 32 columns</p>\n",
       "</div>"
      ],
      "text/plain": [
       "                         SiteID      SensDt     SensorID     ConfID  \\\n",
       "0                        Mosque  2013-09-07  Worldview-2  Very High   \n",
       "1  Building (General / Default)  2013-09-07  Worldview-2  Very High   \n",
       "2  Building (General / Default)  2013-09-07  Worldview-2     Medium   \n",
       "3  Building (General / Default)  2013-09-07  Worldview-2  Very High   \n",
       "4  Building (General / Default)  2013-09-07  Worldview-2  Uncertain   \n",
       "\n",
       "            DmgCls    SensDt_2     SensID_2   ConfID_2         DmgCls_2  \\\n",
       "0    Severe Damage  2014-05-01  Worldview-2  Very High    Severe Damage   \n",
       "1    Severe Damage  2014-05-01  Worldview-2  Very High    Severe Damage   \n",
       "2  Moderate Damage  2014-05-01  Worldview-2     Medium  Moderate Damage   \n",
       "3    Severe Damage  2014-05-01  Worldview-2  Very High    Severe Damage   \n",
       "4  Moderate Damage  2014-05-01  Worldview-2  Uncertain  Moderate Damage   \n",
       "\n",
       "    DmgSts_2  ...                             Notes StlmtNme       Neighbrhd  \\\n",
       "0  No change  ...  Omari Mosque (destroyed minaret)    Daraa  Dar'a al-Balad   \n",
       "1  No change  ...                            <Null>    Daraa  Dar'a al-Balad   \n",
       "2  No change  ...                            <Null>    Daraa  Dar'a al-Balad   \n",
       "3  No change  ...                            <Null>    Daraa  Dar'a al-Balad   \n",
       "4  No change  ...                            <Null>    Daraa  Dar'a al-Balad   \n",
       "\n",
       "       EventCode                                     geometry  longitude  \\\n",
       "0  CE20130604SYR  POINT (36.10085583300008 32.61267652900005)  36.100856   \n",
       "1  CE20130604SYR  POINT (36.10088763300007 32.61285126300004)  36.100888   \n",
       "2  CE20130604SYR  POINT (36.10061228100005 32.61282301800009)  36.100612   \n",
       "3  CE20130604SYR  POINT (36.10040312800004 32.61289420500009)  36.100403   \n",
       "4  CE20130604SYR  POINT (36.10014904700006 32.61300812300004)  36.100149   \n",
       "\n",
       "    latitude column   row location_index  \n",
       "0  32.612677   9004  6103   444864412648  \n",
       "1  32.612851   8971  6109   444864412648  \n",
       "2  32.612823   8977  6057   444864412647  \n",
       "3  32.612894   8963  6018   444864412647  \n",
       "4  32.613008   8942  5971   444865557504  \n",
       "\n",
       "[5 rows x 32 columns]"
      ]
     },
     "execution_count": 20,
     "metadata": {},
     "output_type": "execute_result"
    }
   ],
   "source": [
    "annotations.head()"
   ]
  },
  {
   "cell_type": "code",
   "execution_count": 25,
   "metadata": {},
   "outputs": [
    {
     "data": {
      "text/plain": [
       "Index(['SiteID', 'SensDt', 'SensorID', 'ConfID', 'DmgCls', 'SensDt_2',\n",
       "       'SensID_2', 'ConfID_2', 'DmgCls_2', 'DmgSts_2', 'SensDt_3', 'SensID_3',\n",
       "       'ConfID_3', 'DmgCls_3', 'DmgSts_3', 'SensDt_4', 'SensID_4', 'ConfID_4',\n",
       "       'DmgCls_4', 'DmgSts_4', 'GrpDmgCls', 'FldValid', 'Notes', 'StlmtNme',\n",
       "       'Neighbrhd', 'EventCode', 'geometry', 'longitude', 'latitude', 'column',\n",
       "       'row', 'location_index'],\n",
       "      dtype='object')"
      ]
     },
     "execution_count": 25,
     "metadata": {},
     "output_type": "execute_result"
    }
   ],
   "source": [
    "annotations.columns"
   ]
  },
  {
   "cell_type": "code",
   "execution_count": 24,
   "metadata": {},
   "outputs": [
    {
     "ename": "KeyError",
     "evalue": "'city'",
     "output_type": "error",
     "traceback": [
      "\u001b[0;31m---------------------------------------------------------------------------\u001b[0m",
      "\u001b[0;31mKeyError\u001b[0m                                  Traceback (most recent call last)",
      "\u001b[0;32m<ipython-input-24-b81390796428>\u001b[0m in \u001b[0;36m<module>\u001b[0;34m\u001b[0m\n\u001b[0;32m----> 1\u001b[0;31m \u001b[0mpd\u001b[0m\u001b[0;34m.\u001b[0m\u001b[0mmerge\u001b[0m\u001b[0;34m(\u001b[0m\u001b[0mraster_split\u001b[0m\u001b[0;34m,\u001b[0m \u001b[0mannotations\u001b[0m\u001b[0;34m,\u001b[0m \u001b[0mon\u001b[0m\u001b[0;34m=\u001b[0m\u001b[0;34m[\u001b[0m\u001b[0;34m'city'\u001b[0m\u001b[0;34m,\u001b[0m \u001b[0;34m'location_index'\u001b[0m\u001b[0;34m,\u001b[0m \u001b[0;34m'date'\u001b[0m\u001b[0;34m]\u001b[0m\u001b[0;34m)\u001b[0m\u001b[0;34m.\u001b[0m\u001b[0mhead\u001b[0m\u001b[0;34m(\u001b[0m\u001b[0;36m1\u001b[0m\u001b[0;34m)\u001b[0m\u001b[0;34m\u001b[0m\u001b[0;34m\u001b[0m\u001b[0m\n\u001b[0m",
      "\u001b[0;32m~/.virtualenvs/py3/lib/python3.7/site-packages/pandas/core/reshape/merge.py\u001b[0m in \u001b[0;36mmerge\u001b[0;34m(left, right, how, on, left_on, right_on, left_index, right_index, sort, suffixes, copy, indicator, validate)\u001b[0m\n\u001b[1;32m     45\u001b[0m                          \u001b[0mright_index\u001b[0m\u001b[0;34m=\u001b[0m\u001b[0mright_index\u001b[0m\u001b[0;34m,\u001b[0m \u001b[0msort\u001b[0m\u001b[0;34m=\u001b[0m\u001b[0msort\u001b[0m\u001b[0;34m,\u001b[0m \u001b[0msuffixes\u001b[0m\u001b[0;34m=\u001b[0m\u001b[0msuffixes\u001b[0m\u001b[0;34m,\u001b[0m\u001b[0;34m\u001b[0m\u001b[0;34m\u001b[0m\u001b[0m\n\u001b[1;32m     46\u001b[0m                          \u001b[0mcopy\u001b[0m\u001b[0;34m=\u001b[0m\u001b[0mcopy\u001b[0m\u001b[0;34m,\u001b[0m \u001b[0mindicator\u001b[0m\u001b[0;34m=\u001b[0m\u001b[0mindicator\u001b[0m\u001b[0;34m,\u001b[0m\u001b[0;34m\u001b[0m\u001b[0;34m\u001b[0m\u001b[0m\n\u001b[0;32m---> 47\u001b[0;31m                          validate=validate)\n\u001b[0m\u001b[1;32m     48\u001b[0m     \u001b[0;32mreturn\u001b[0m \u001b[0mop\u001b[0m\u001b[0;34m.\u001b[0m\u001b[0mget_result\u001b[0m\u001b[0;34m(\u001b[0m\u001b[0;34m)\u001b[0m\u001b[0;34m\u001b[0m\u001b[0;34m\u001b[0m\u001b[0m\n\u001b[1;32m     49\u001b[0m \u001b[0;34m\u001b[0m\u001b[0m\n",
      "\u001b[0;32m~/.virtualenvs/py3/lib/python3.7/site-packages/pandas/core/reshape/merge.py\u001b[0m in \u001b[0;36m__init__\u001b[0;34m(self, left, right, how, on, left_on, right_on, axis, left_index, right_index, sort, suffixes, copy, indicator, validate)\u001b[0m\n\u001b[1;32m    527\u001b[0m         (self.left_join_keys,\n\u001b[1;32m    528\u001b[0m          \u001b[0mself\u001b[0m\u001b[0;34m.\u001b[0m\u001b[0mright_join_keys\u001b[0m\u001b[0;34m,\u001b[0m\u001b[0;34m\u001b[0m\u001b[0;34m\u001b[0m\u001b[0m\n\u001b[0;32m--> 529\u001b[0;31m          self.join_names) = self._get_merge_keys()\n\u001b[0m\u001b[1;32m    530\u001b[0m \u001b[0;34m\u001b[0m\u001b[0m\n\u001b[1;32m    531\u001b[0m         \u001b[0;31m# validate the merge keys dtypes. We may need to coerce\u001b[0m\u001b[0;34m\u001b[0m\u001b[0;34m\u001b[0m\u001b[0;34m\u001b[0m\u001b[0m\n",
      "\u001b[0;32m~/.virtualenvs/py3/lib/python3.7/site-packages/pandas/core/reshape/merge.py\u001b[0m in \u001b[0;36m_get_merge_keys\u001b[0;34m(self)\u001b[0m\n\u001b[1;32m    831\u001b[0m                         \u001b[0;32mif\u001b[0m \u001b[0mrk\u001b[0m \u001b[0;32mis\u001b[0m \u001b[0;32mnot\u001b[0m \u001b[0;32mNone\u001b[0m\u001b[0;34m:\u001b[0m\u001b[0;34m\u001b[0m\u001b[0;34m\u001b[0m\u001b[0m\n\u001b[1;32m    832\u001b[0m                             right_keys.append(\n\u001b[0;32m--> 833\u001b[0;31m                                 right._get_label_or_level_values(rk))\n\u001b[0m\u001b[1;32m    834\u001b[0m                         \u001b[0;32melse\u001b[0m\u001b[0;34m:\u001b[0m\u001b[0;34m\u001b[0m\u001b[0;34m\u001b[0m\u001b[0m\n\u001b[1;32m    835\u001b[0m                             \u001b[0;31m# work-around for merge_asof(right_index=True)\u001b[0m\u001b[0;34m\u001b[0m\u001b[0;34m\u001b[0m\u001b[0;34m\u001b[0m\u001b[0m\n",
      "\u001b[0;32m~/.virtualenvs/py3/lib/python3.7/site-packages/pandas/core/generic.py\u001b[0m in \u001b[0;36m_get_label_or_level_values\u001b[0;34m(self, key, axis)\u001b[0m\n\u001b[1;32m   1705\u001b[0m             \u001b[0mvalues\u001b[0m \u001b[0;34m=\u001b[0m \u001b[0mself\u001b[0m\u001b[0;34m.\u001b[0m\u001b[0maxes\u001b[0m\u001b[0;34m[\u001b[0m\u001b[0maxis\u001b[0m\u001b[0;34m]\u001b[0m\u001b[0;34m.\u001b[0m\u001b[0mget_level_values\u001b[0m\u001b[0;34m(\u001b[0m\u001b[0mkey\u001b[0m\u001b[0;34m)\u001b[0m\u001b[0;34m.\u001b[0m\u001b[0m_values\u001b[0m\u001b[0;34m\u001b[0m\u001b[0;34m\u001b[0m\u001b[0m\n\u001b[1;32m   1706\u001b[0m         \u001b[0;32melse\u001b[0m\u001b[0;34m:\u001b[0m\u001b[0;34m\u001b[0m\u001b[0;34m\u001b[0m\u001b[0m\n\u001b[0;32m-> 1707\u001b[0;31m             \u001b[0;32mraise\u001b[0m \u001b[0mKeyError\u001b[0m\u001b[0;34m(\u001b[0m\u001b[0mkey\u001b[0m\u001b[0;34m)\u001b[0m\u001b[0;34m\u001b[0m\u001b[0;34m\u001b[0m\u001b[0m\n\u001b[0m\u001b[1;32m   1708\u001b[0m \u001b[0;34m\u001b[0m\u001b[0m\n\u001b[1;32m   1709\u001b[0m         \u001b[0;31m# Check for duplicates\u001b[0m\u001b[0;34m\u001b[0m\u001b[0;34m\u001b[0m\u001b[0;34m\u001b[0m\u001b[0m\n",
      "\u001b[0;31mKeyError\u001b[0m: 'city'"
     ]
    }
   ],
   "source": [
    "pd.merge(raster_split, annotations, on=['city', 'location_index', 'date']).head(1)"
   ]
  },
  {
   "cell_type": "code",
   "execution_count": 27,
   "metadata": {},
   "outputs": [],
   "source": [
    "a = pd.DataFrame({\n",
    "    'i0': ['a', 'a'],\n",
    "    'i1': ['b', 'b'],\n",
    "    'col_a': [0, 1],\n",
    "}).set_index(['i0', 'i1'])\n",
    "b = pd.DataFrame({\n",
    "    'i0': ['a', 'a'],\n",
    "    'i1': ['b', 'c'],\n",
    "    'col_b': [0, 1],\n",
    "}).set_index(['i0', 'i1'])"
   ]
  },
  {
   "cell_type": "code",
   "execution_count": 28,
   "metadata": {},
   "outputs": [
    {
     "data": {
      "text/html": [
       "<div>\n",
       "<style scoped>\n",
       "    .dataframe tbody tr th:only-of-type {\n",
       "        vertical-align: middle;\n",
       "    }\n",
       "\n",
       "    .dataframe tbody tr th {\n",
       "        vertical-align: top;\n",
       "    }\n",
       "\n",
       "    .dataframe thead th {\n",
       "        text-align: right;\n",
       "    }\n",
       "</style>\n",
       "<table border=\"1\" class=\"dataframe\">\n",
       "  <thead>\n",
       "    <tr style=\"text-align: right;\">\n",
       "      <th></th>\n",
       "      <th></th>\n",
       "      <th>col_a</th>\n",
       "      <th>col_b</th>\n",
       "    </tr>\n",
       "    <tr>\n",
       "      <th>i0</th>\n",
       "      <th>i1</th>\n",
       "      <th></th>\n",
       "      <th></th>\n",
       "    </tr>\n",
       "  </thead>\n",
       "  <tbody>\n",
       "    <tr>\n",
       "      <th rowspan=\"2\" valign=\"top\">a</th>\n",
       "      <th>b</th>\n",
       "      <td>0</td>\n",
       "      <td>0</td>\n",
       "    </tr>\n",
       "    <tr>\n",
       "      <th>b</th>\n",
       "      <td>1</td>\n",
       "      <td>0</td>\n",
       "    </tr>\n",
       "  </tbody>\n",
       "</table>\n",
       "</div>"
      ],
      "text/plain": [
       "       col_a  col_b\n",
       "i0 i1              \n",
       "a  b       0      0\n",
       "   b       1      0"
      ]
     },
     "execution_count": 28,
     "metadata": {},
     "output_type": "execute_result"
    }
   ],
   "source": [
    "pd.merge(a, b, right_index=True, left_index=True)"
   ]
  },
  {
   "cell_type": "code",
   "execution_count": 47,
   "metadata": {},
   "outputs": [],
   "source": [
    "a = pd.DataFrame({\n",
    "    'index': ['2000/01/01', '2001/01/01'],\n",
    "    'col': [0, 1],\n",
    "})\n",
    "a['index'] = pd.to_datetime(a['index']).dt.date.astype(object)\n",
    "\n",
    "b = pd.DataFrame({\n",
    "    'index_date': ['2000/01/01', '2001/01/01'],\n",
    "    'index_string': ['a', 'b'],\n",
    "    'col': [0, 1],\n",
    "})\n",
    "b['index_date'] = pd.to_datetime(b['index_date']).dt.date.astype(object)"
   ]
  },
  {
   "cell_type": "code",
   "execution_count": 48,
   "metadata": {},
   "outputs": [
    {
     "data": {
      "text/plain": [
       "index    object\n",
       "col       int64\n",
       "dtype: object"
      ]
     },
     "execution_count": 48,
     "metadata": {},
     "output_type": "execute_result"
    }
   ],
   "source": [
    "a.dtypes"
   ]
  },
  {
   "cell_type": "code",
   "execution_count": 49,
   "metadata": {},
   "outputs": [
    {
     "data": {
      "text/plain": [
       "index_date      object\n",
       "index_string    object\n",
       "col              int64\n",
       "dtype: object"
      ]
     },
     "execution_count": 49,
     "metadata": {},
     "output_type": "execute_result"
    }
   ],
   "source": [
    "b.dtypes"
   ]
  },
  {
   "cell_type": "code",
   "execution_count": 50,
   "metadata": {},
   "outputs": [],
   "source": [
    "a = a.set_index(['index'])\n",
    "b = b.set_index(['index_date', 'index_string'])"
   ]
  },
  {
   "cell_type": "code",
   "execution_count": 51,
   "metadata": {},
   "outputs": [
    {
     "data": {
      "text/plain": [
       "index    object\n",
       "col       int64\n",
       "dtype: object"
      ]
     },
     "execution_count": 51,
     "metadata": {},
     "output_type": "execute_result"
    }
   ],
   "source": [
    "a.reset_index().dtypes"
   ]
  },
  {
   "cell_type": "code",
   "execution_count": 52,
   "metadata": {},
   "outputs": [
    {
     "data": {
      "text/plain": [
       "index_date      datetime64[ns]\n",
       "index_string            object\n",
       "col                      int64\n",
       "dtype: object"
      ]
     },
     "execution_count": 52,
     "metadata": {},
     "output_type": "execute_result"
    }
   ],
   "source": [
    "b.reset_index().dtypes"
   ]
  },
  {
   "cell_type": "code",
   "execution_count": null,
   "metadata": {},
   "outputs": [],
   "source": []
  }
 ],
 "metadata": {
  "kernelspec": {
   "display_name": "Python 3",
   "language": "python",
   "name": "python3"
  },
  "language_info": {
   "codemirror_mode": {
    "name": "ipython",
    "version": 3
   },
   "file_extension": ".py",
   "mimetype": "text/x-python",
   "name": "python",
   "nbconvert_exporter": "python",
   "pygments_lexer": "ipython3",
   "version": "3.7.1"
  }
 },
 "nbformat": 4,
 "nbformat_minor": 2
}
