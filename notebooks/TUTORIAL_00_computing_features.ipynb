{
 "cells": [
  {
   "cell_type": "markdown",
   "metadata": {},
   "source": [
    "# Tutorial 00: Computing features"
   ]
  },
  {
   "cell_type": "markdown",
   "metadata": {},
   "source": [
    "In this notebook, we can see how to compute features making use of the Pipeline and Feature classes. First, we import a function to load data from multiple cities and the module that contains the code for features."
   ]
  },
  {
   "cell_type": "code",
   "execution_count": 1,
   "metadata": {},
   "outputs": [],
   "source": [
    "%load_ext autoreload\n",
    "%autoreload 2\n",
    "from damage.data import load_data_multiple_cities\n",
    "from damage import features"
   ]
  },
  {
   "cell_type": "markdown",
   "metadata": {},
   "source": [
    "Now, we start by reading the data for any cities we are interested in. In this case, we will load data from Aleppo."
   ]
  },
  {
   "cell_type": "code",
   "execution_count": 3,
   "metadata": {},
   "outputs": [],
   "source": [
    "## Reading\n",
    "cities = ['daraa']\n",
    "\n",
    "rasters_path = '../data/city_rasters/'\n",
    "annotations_path = '../data/annotations/'\n",
    "polygons_path = '../data/polygons/'\n",
    "\n",
    "data = load_data_multiple_cities(cities, rasters_path, annotations_path, polygons_path)"
   ]
  },
  {
   "cell_type": "markdown",
   "metadata": {},
   "source": [
    "The resulting object is a dictionary with the filenames preceded by a keyword (populated_areas, annotation, raster) as keys and data as values (dataframes, tifs, arrays...). By adding that keyword as a prefix we will be able to detect on a later step what type of data each key contains. \n",
    "\n",
    "The mapping between the city name (Aleppo in this case) and the corresponding filenames is done at damage/data/data_sources.py Ideally, we should create a standard way of naming the files so that file is not required."
   ]
  },
  {
   "cell_type": "code",
   "execution_count": 4,
   "metadata": {},
   "outputs": [
    {
     "data": {
      "text/plain": [
       "dict_keys(['populated_areas_populated_areas.shp', 'annotation_4_Damage_Sites_Daraa_CDA.shp', 'raster_daraa_2011_10_17_zoom_19.tif', 'raster_daraa_2017_02_07_zoom_19.tif', 'no_analysis_areas_5_No_Analysis_Areas_Daraa.shp'])"
      ]
     },
     "execution_count": 4,
     "metadata": {},
     "output_type": "execute_result"
    }
   ],
   "source": [
    "data.keys()"
   ]
  },
  {
   "cell_type": "code",
   "execution_count": 5,
   "metadata": {},
   "outputs": [
    {
     "data": {
      "text/html": [
       "<div>\n",
       "<style scoped>\n",
       "    .dataframe tbody tr th:only-of-type {\n",
       "        vertical-align: middle;\n",
       "    }\n",
       "\n",
       "    .dataframe tbody tr th {\n",
       "        vertical-align: top;\n",
       "    }\n",
       "\n",
       "    .dataframe thead th {\n",
       "        text-align: right;\n",
       "    }\n",
       "</style>\n",
       "<table border=\"1\" class=\"dataframe\">\n",
       "  <thead>\n",
       "    <tr style=\"text-align: right;\">\n",
       "      <th></th>\n",
       "      <th>NAME_EN</th>\n",
       "      <th>NAM_EN_REF</th>\n",
       "      <th>NAME_AR</th>\n",
       "      <th>NAM_AR_REF</th>\n",
       "      <th>PCODE</th>\n",
       "      <th>ADM3_EN</th>\n",
       "      <th>ADM3_AR</th>\n",
       "      <th>ADM3_PCODE</th>\n",
       "      <th>ADM2_EN</th>\n",
       "      <th>ADM2_AR</th>\n",
       "      <th>...</th>\n",
       "      <th>ADM1_PCODE</th>\n",
       "      <th>ADM0_EN</th>\n",
       "      <th>ADM0_AR</th>\n",
       "      <th>ADM0_PCODE</th>\n",
       "      <th>LATITUDE</th>\n",
       "      <th>LONGITUDE</th>\n",
       "      <th>ADM3_CAPIT</th>\n",
       "      <th>ADM1_CAPIT</th>\n",
       "      <th>UPDATE_DAT</th>\n",
       "      <th>geometry</th>\n",
       "    </tr>\n",
       "  </thead>\n",
       "  <tbody>\n",
       "    <tr>\n",
       "      <th>0</th>\n",
       "      <td>Abu Kbee - East</td>\n",
       "      <td>Abu Kbee - East</td>\n",
       "      <td>Ø£Ø¨Ùˆ ÙƒØ¨ÙŠØ¹ Ø´Ø±Ù‚ÙŠ</td>\n",
       "      <td>Ø£Ø¨Ùˆ ÙƒØ¨ÙŠØ¹ Ø´Ø±Ù‚ÙŠ</td>\n",
       "      <td>C6723</td>\n",
       "      <td>Ar-Raqqa</td>\n",
       "      <td>Ù…Ø±ÙƒØ² Ø§Ù„Ø±Ù‚Ø©</td>\n",
       "      <td>None</td>\n",
       "      <td>Ar-Raqqa</td>\n",
       "      <td>Ù…Ø±ÙƒØ² Ø§Ù„Ø±Ù‚Ø©</td>\n",
       "      <td>...</td>\n",
       "      <td>SY11</td>\n",
       "      <td>Syrian Arab Republic</td>\n",
       "      <td>Ø§Ù„Ø¬Ù…Ù‡ÙˆØ±ÙŠØ© Ø§Ù„Ø¹Ø±Ø¨ÙŠØ© Ø§Ù„Ø³ÙˆØ±ÙŠØ©</td>\n",
       "      <td>SY</td>\n",
       "      <td>35.912789</td>\n",
       "      <td>38.909994</td>\n",
       "      <td>None</td>\n",
       "      <td>None</td>\n",
       "      <td>2016-09-05</td>\n",
       "      <td>POLYGON ((38.91412141100005 35.91328160500007,...</td>\n",
       "    </tr>\n",
       "    <tr>\n",
       "      <th>1</th>\n",
       "      <td>Ajel</td>\n",
       "      <td>Ajel</td>\n",
       "      <td>Ø¹Ø§Ø¬Ù„</td>\n",
       "      <td>Ø¹Ø§Ø¬Ù„</td>\n",
       "      <td>C6753</td>\n",
       "      <td>Atareb</td>\n",
       "      <td>Ø£ØªØ§Ø±Ø¨</td>\n",
       "      <td>None</td>\n",
       "      <td>Jebel Saman</td>\n",
       "      <td>Ø¬Ø¨Ù„ Ø³Ù…Ø¹Ø§Ù†</td>\n",
       "      <td>...</td>\n",
       "      <td>SY02</td>\n",
       "      <td>Syrian Arab Republic</td>\n",
       "      <td>Ø§Ù„Ø¬Ù…Ù‡ÙˆØ±ÙŠØ© Ø§Ù„Ø¹Ø±Ø¨ÙŠØ© Ø§Ù„Ø³ÙˆØ±ÙŠØ©</td>\n",
       "      <td>SY</td>\n",
       "      <td>36.179877</td>\n",
       "      <td>36.953125</td>\n",
       "      <td>None</td>\n",
       "      <td>None</td>\n",
       "      <td>2016-09-05</td>\n",
       "      <td>POLYGON ((36.95356450000003 36.18246830000004,...</td>\n",
       "    </tr>\n",
       "    <tr>\n",
       "      <th>2</th>\n",
       "      <td>Al Abdallah</td>\n",
       "      <td>Al Abdallah</td>\n",
       "      <td>Ø§Ù„Ø¹Ø¨Ø¯ Ø§Ù„Ù„Ù‡</td>\n",
       "      <td>Ø§Ù„Ø¹Ø¨Ø¯ Ø§Ù„Ù„Ù‡</td>\n",
       "      <td>C6733</td>\n",
       "      <td>Karama</td>\n",
       "      <td>Ø§Ù„ÙƒØ±Ø§Ù…Ø©</td>\n",
       "      <td>None</td>\n",
       "      <td>Ar-Raqqa</td>\n",
       "      <td>Ù…Ø±ÙƒØ² Ø§Ù„Ø±Ù‚Ø©</td>\n",
       "      <td>...</td>\n",
       "      <td>SY11</td>\n",
       "      <td>Syrian Arab Republic</td>\n",
       "      <td>Ø§Ù„Ø¬Ù…Ù‡ÙˆØ±ÙŠØ© Ø§Ù„Ø¹Ø±Ø¨ÙŠØ© Ø§Ù„Ø³ÙˆØ±ÙŠØ©</td>\n",
       "      <td>SY</td>\n",
       "      <td>35.982939</td>\n",
       "      <td>39.097932</td>\n",
       "      <td>None</td>\n",
       "      <td>None</td>\n",
       "      <td>2016-09-05</td>\n",
       "      <td>POLYGON ((39.09338407500007 35.97671661600003,...</td>\n",
       "    </tr>\n",
       "    <tr>\n",
       "      <th>3</th>\n",
       "      <td>Al Barouda</td>\n",
       "      <td>Al Barouda</td>\n",
       "      <td>Ø§Ù„Ø¨Ø§Ø±ÙˆØ¯Ø©</td>\n",
       "      <td>Ø§Ù„Ø¨Ø§Ø±ÙˆØ¯Ø©</td>\n",
       "      <td>C6720</td>\n",
       "      <td>Mansura</td>\n",
       "      <td>Ø§Ù„Ù…Ù†ØµÙˆØ±Ø©</td>\n",
       "      <td>None</td>\n",
       "      <td>Ath-Thawrah</td>\n",
       "      <td>Ø§Ù„Ø«ÙˆØ±Ø©</td>\n",
       "      <td>...</td>\n",
       "      <td>SY11</td>\n",
       "      <td>Syrian Arab Republic</td>\n",
       "      <td>Ø§Ù„Ø¬Ù…Ù‡ÙˆØ±ÙŠØ© Ø§Ù„Ø¹Ø±Ø¨ÙŠØ© Ø§Ù„Ø³ÙˆØ±ÙŠØ©</td>\n",
       "      <td>SY</td>\n",
       "      <td>35.896964</td>\n",
       "      <td>38.802059</td>\n",
       "      <td>None</td>\n",
       "      <td>None</td>\n",
       "      <td>2016-09-05</td>\n",
       "      <td>POLYGON ((38.79519559900007 35.89591762800006,...</td>\n",
       "    </tr>\n",
       "    <tr>\n",
       "      <th>4</th>\n",
       "      <td>Al Basna</td>\n",
       "      <td>Al Basna</td>\n",
       "      <td>Ø§Ù„Ø¨ØµÙ†Ø©</td>\n",
       "      <td>Ø§Ù„Ø¨ØµÙ†Ø©</td>\n",
       "      <td>C6744</td>\n",
       "      <td>Shadadah</td>\n",
       "      <td>Ø´Ø¯Ø§Ø¯Ø©</td>\n",
       "      <td>None</td>\n",
       "      <td>Al-Hasakeh</td>\n",
       "      <td>Ù…Ø±ÙƒØ² Ø§Ù„Ø­Ø³ÙƒØ©</td>\n",
       "      <td>...</td>\n",
       "      <td>SY08</td>\n",
       "      <td>Syrian Arab Republic</td>\n",
       "      <td>Ø§Ù„Ø¬Ù…Ù‡ÙˆØ±ÙŠØ© Ø§Ù„Ø¹Ø±Ø¨ÙŠØ© Ø§Ù„Ø³ÙˆØ±ÙŠØ©</td>\n",
       "      <td>SY</td>\n",
       "      <td>36.082234</td>\n",
       "      <td>40.702094</td>\n",
       "      <td>None</td>\n",
       "      <td>None</td>\n",
       "      <td>2016-09-05</td>\n",
       "      <td>POLYGON ((40.69825104600005 36.08139507400006,...</td>\n",
       "    </tr>\n",
       "  </tbody>\n",
       "</table>\n",
       "<p>5 rows × 23 columns</p>\n",
       "</div>"
      ],
      "text/plain": [
       "           NAME_EN       NAM_EN_REF                   NAME_AR  \\\n",
       "0  Abu Kbee - East  Abu Kbee - East  Ø£Ø¨Ùˆ ÙƒØ¨ÙŠØ¹ Ø´Ø±Ù‚ÙŠ   \n",
       "1             Ajel             Ajel                  Ø¹Ø§Ø¬Ù„   \n",
       "2      Al Abdallah      Al Abdallah       Ø§Ù„Ø¹Ø¨Ø¯ Ø§Ù„Ù„Ù‡   \n",
       "3       Al Barouda       Al Barouda          Ø§Ù„Ø¨Ø§Ø±ÙˆØ¯Ø©   \n",
       "4         Al Basna         Al Basna              Ø§Ù„Ø¨ØµÙ†Ø©   \n",
       "\n",
       "                 NAM_AR_REF  PCODE   ADM3_EN              ADM3_AR ADM3_PCODE  \\\n",
       "0  Ø£Ø¨Ùˆ ÙƒØ¨ÙŠØ¹ Ø´Ø±Ù‚ÙŠ  C6723  Ar-Raqqa  Ù…Ø±ÙƒØ² Ø§Ù„Ø±Ù‚Ø©       None   \n",
       "1                  Ø¹Ø§Ø¬Ù„  C6753    Atareb           Ø£ØªØ§Ø±Ø¨       None   \n",
       "2       Ø§Ù„Ø¹Ø¨Ø¯ Ø§Ù„Ù„Ù‡  C6733    Karama       Ø§Ù„ÙƒØ±Ø§Ù…Ø©       None   \n",
       "3          Ø§Ù„Ø¨Ø§Ø±ÙˆØ¯Ø©  C6720   Mansura     Ø§Ù„Ù…Ù†ØµÙˆØ±Ø©       None   \n",
       "4              Ø§Ù„Ø¨ØµÙ†Ø©  C6744  Shadadah           Ø´Ø¯Ø§Ø¯Ø©       None   \n",
       "\n",
       "       ADM2_EN                ADM2_AR  ... ADM1_PCODE               ADM0_EN  \\\n",
       "0     Ar-Raqqa    Ù…Ø±ÙƒØ² Ø§Ù„Ø±Ù‚Ø©  ...       SY11  Syrian Arab Republic   \n",
       "1  Jebel Saman      Ø¬Ø¨Ù„ Ø³Ù…Ø¹Ø§Ù†  ...       SY02  Syrian Arab Republic   \n",
       "2     Ar-Raqqa    Ù…Ø±ÙƒØ² Ø§Ù„Ø±Ù‚Ø©  ...       SY11  Syrian Arab Republic   \n",
       "3  Ath-Thawrah           Ø§Ù„Ø«ÙˆØ±Ø©  ...       SY11  Syrian Arab Republic   \n",
       "4   Al-Hasakeh  Ù…Ø±ÙƒØ² Ø§Ù„Ø­Ø³ÙƒØ©  ...       SY08  Syrian Arab Republic   \n",
       "\n",
       "                                            ADM0_AR ADM0_PCODE   LATITUDE  \\\n",
       "0  Ø§Ù„Ø¬Ù…Ù‡ÙˆØ±ÙŠØ© Ø§Ù„Ø¹Ø±Ø¨ÙŠØ© Ø§Ù„Ø³ÙˆØ±ÙŠØ©         SY  35.912789   \n",
       "1  Ø§Ù„Ø¬Ù…Ù‡ÙˆØ±ÙŠØ© Ø§Ù„Ø¹Ø±Ø¨ÙŠØ© Ø§Ù„Ø³ÙˆØ±ÙŠØ©         SY  36.179877   \n",
       "2  Ø§Ù„Ø¬Ù…Ù‡ÙˆØ±ÙŠØ© Ø§Ù„Ø¹Ø±Ø¨ÙŠØ© Ø§Ù„Ø³ÙˆØ±ÙŠØ©         SY  35.982939   \n",
       "3  Ø§Ù„Ø¬Ù…Ù‡ÙˆØ±ÙŠØ© Ø§Ù„Ø¹Ø±Ø¨ÙŠØ© Ø§Ù„Ø³ÙˆØ±ÙŠØ©         SY  35.896964   \n",
       "4  Ø§Ù„Ø¬Ù…Ù‡ÙˆØ±ÙŠØ© Ø§Ù„Ø¹Ø±Ø¨ÙŠØ© Ø§Ù„Ø³ÙˆØ±ÙŠØ©         SY  36.082234   \n",
       "\n",
       "   LONGITUDE ADM3_CAPIT  ADM1_CAPIT  UPDATE_DAT  \\\n",
       "0  38.909994       None        None  2016-09-05   \n",
       "1  36.953125       None        None  2016-09-05   \n",
       "2  39.097932       None        None  2016-09-05   \n",
       "3  38.802059       None        None  2016-09-05   \n",
       "4  40.702094       None        None  2016-09-05   \n",
       "\n",
       "                                            geometry  \n",
       "0  POLYGON ((38.91412141100005 35.91328160500007,...  \n",
       "1  POLYGON ((36.95356450000003 36.18246830000004,...  \n",
       "2  POLYGON ((39.09338407500007 35.97671661600003,...  \n",
       "3  POLYGON ((38.79519559900007 35.89591762800006,...  \n",
       "4  POLYGON ((40.69825104600005 36.08139507400006,...  \n",
       "\n",
       "[5 rows x 23 columns]"
      ]
     },
     "execution_count": 5,
     "metadata": {},
     "output_type": "execute_result"
    }
   ],
   "source": [
    "data['populated_areas_populated_areas.shp'].head()"
   ]
  },
  {
   "cell_type": "markdown",
   "metadata": {},
   "source": [
    "Now, let's get into the code of the Pipeline."
   ]
  },
  {
   "cell_type": "markdown",
   "metadata": {},
   "source": [
    "## The feature pipeline"
   ]
  },
  {
   "cell_type": "markdown",
   "metadata": {},
   "source": [
    "The ___Pipeline___ class takes a __list of tuples__ (name, function) for preprocessors and features and applies them with the transform method. __The feature functions need to return a dataframe with an identically structured index so the merge can be performed (e.g. city, patch_id).__\n",
    "\n",
    "The ___transform___ method __takes a dictionary of data__ where each key represents a different data source (e.g. annotations) and each value a data object (e.g. pandas dataframe). The transform         method __iterates first over the preprocessor functions, overwriting the data object__. Then, it __iterates over the feature functions creating new keys__ in the data dictionary with the passed name. That way, features can use data generates by previously computed features.\n",
    "\n",
    "Finally, the transform method merges the data generates by the feature functions making use of the __common index structure__.\n"
   ]
  },
  {
   "cell_type": "code",
   "execution_count": 6,
   "metadata": {},
   "outputs": [],
   "source": [
    "from functools import reduce\n",
    "import pandas as pd\n",
    "\n",
    "from damage.features.base import Transformer\n",
    "\n",
    "\n",
    "class Pipeline(Transformer):\n",
    "\n",
    "    def __init__(self, features, preprocessors):\n",
    "        self.features = features\n",
    "        self.feature_names = [feature_name for feature_name, _ in self.features]\n",
    "        self.preprocessors = preprocessors\n",
    "\n",
    "    def transform(self, data):\n",
    "        for preprocessor_name, preprocessor in self.preprocessors:\n",
    "            data = preprocessor(data)\n",
    "\n",
    "        for feature_name, feature in self.features:\n",
    "            data[feature_name] = feature(data)\n",
    "\n",
    "        feature_data = [data[name] for name in self.feature_names if name in data.keys()]\n",
    "        feature_data = self._merge_feature_data(feature_data)\n",
    "        return feature_data\n",
    "\n",
    "    def _merge_feature_data(self, feature_data):\n",
    "        return reduce(lambda l, r: pd.merge(l, r, left_index=True, right_index=True, how='outer'), feature_data)\n"
   ]
  },
  {
   "cell_type": "markdown",
   "metadata": {},
   "source": [
    "## A toy example"
   ]
  },
  {
   "cell_type": "markdown",
   "metadata": {},
   "source": [
    "Let's go first with a toy example. First we create our data."
   ]
  },
  {
   "cell_type": "code",
   "execution_count": 6,
   "metadata": {},
   "outputs": [
    {
     "data": {
      "text/html": [
       "<div>\n",
       "<style scoped>\n",
       "    .dataframe tbody tr th:only-of-type {\n",
       "        vertical-align: middle;\n",
       "    }\n",
       "\n",
       "    .dataframe tbody tr th {\n",
       "        vertical-align: top;\n",
       "    }\n",
       "\n",
       "    .dataframe thead th {\n",
       "        text-align: right;\n",
       "    }\n",
       "</style>\n",
       "<table border=\"1\" class=\"dataframe\">\n",
       "  <thead>\n",
       "    <tr style=\"text-align: right;\">\n",
       "      <th></th>\n",
       "      <th>destroyed</th>\n",
       "      <th>patch_id</th>\n",
       "    </tr>\n",
       "  </thead>\n",
       "  <tbody>\n",
       "    <tr>\n",
       "      <th>0</th>\n",
       "      <td>0</td>\n",
       "      <td>1</td>\n",
       "    </tr>\n",
       "    <tr>\n",
       "      <th>1</th>\n",
       "      <td>1</td>\n",
       "      <td>2</td>\n",
       "    </tr>\n",
       "  </tbody>\n",
       "</table>\n",
       "</div>"
      ],
      "text/plain": [
       "   destroyed patch_id\n",
       "0          0        1\n",
       "1          1        2"
      ]
     },
     "execution_count": 6,
     "metadata": {},
     "output_type": "execute_result"
    }
   ],
   "source": [
    "annotations = pd.DataFrame({\n",
    "    'destroyed': [0, 1],\n",
    "    'patch_id': ['1', '2'],\n",
    "})\n",
    "annotations"
   ]
  },
  {
   "cell_type": "code",
   "execution_count": 7,
   "metadata": {},
   "outputs": [
    {
     "data": {
      "text/html": [
       "<div>\n",
       "<style scoped>\n",
       "    .dataframe tbody tr th:only-of-type {\n",
       "        vertical-align: middle;\n",
       "    }\n",
       "\n",
       "    .dataframe tbody tr th {\n",
       "        vertical-align: top;\n",
       "    }\n",
       "\n",
       "    .dataframe thead th {\n",
       "        text-align: right;\n",
       "    }\n",
       "</style>\n",
       "<table border=\"1\" class=\"dataframe\">\n",
       "  <thead>\n",
       "    <tr style=\"text-align: right;\">\n",
       "      <th></th>\n",
       "      <th>image</th>\n",
       "      <th>patch_id</th>\n",
       "    </tr>\n",
       "  </thead>\n",
       "  <tbody>\n",
       "    <tr>\n",
       "      <th>0</th>\n",
       "      <td>image_a</td>\n",
       "      <td>1</td>\n",
       "    </tr>\n",
       "    <tr>\n",
       "      <th>1</th>\n",
       "      <td>image_b</td>\n",
       "      <td>2</td>\n",
       "    </tr>\n",
       "  </tbody>\n",
       "</table>\n",
       "</div>"
      ],
      "text/plain": [
       "     image patch_id\n",
       "0  image_a        1\n",
       "1  image_b        2"
      ]
     },
     "execution_count": 7,
     "metadata": {},
     "output_type": "execute_result"
    }
   ],
   "source": [
    "image = pd.DataFrame({\n",
    "    'image': ['image_a', 'image_b'],\n",
    "    'patch_id': ['1', '2'],\n",
    "})\n",
    "image"
   ]
  },
  {
   "cell_type": "code",
   "execution_count": 8,
   "metadata": {},
   "outputs": [],
   "source": [
    "data = {\n",
    "    'annotations': annotations,\n",
    "    'image': image\n",
    "}"
   ]
  },
  {
   "cell_type": "markdown",
   "metadata": {},
   "source": [
    "Now, we create some simple functions"
   ]
  },
  {
   "cell_type": "code",
   "execution_count": 9,
   "metadata": {},
   "outputs": [],
   "source": [
    "def preprocessor_preprocess_annotations(data):\n",
    "    annotation_data = data['annotations']\n",
    "    data['annotations'] = annotation_data.rename(columns={'destroyed': 'damage'})\n",
    "    return data\n",
    "\n",
    "def feature_create_damage_dummy(data):\n",
    "    annotation_data = data['annotations'].set_index('patch_id')\n",
    "    damage_dummy = pd.get_dummies(annotation_data['damage'], drop_first=True, prefix='destroyed')\n",
    "    return damage_dummy\n",
    "\n",
    "def feature_split_images(data):\n",
    "    image_data = data['image'].set_index('patch_id')\n",
    "    # Split\n",
    "    return image_data"
   ]
  },
  {
   "cell_type": "markdown",
   "metadata": {},
   "source": [
    "Now we apply these functions to the data dictionary we created and we well get a pandas dataframe with our features, indexed by the common index."
   ]
  },
  {
   "cell_type": "code",
   "execution_count": 11,
   "metadata": {},
   "outputs": [
    {
     "data": {
      "text/html": [
       "<div>\n",
       "<style scoped>\n",
       "    .dataframe tbody tr th:only-of-type {\n",
       "        vertical-align: middle;\n",
       "    }\n",
       "\n",
       "    .dataframe tbody tr th {\n",
       "        vertical-align: top;\n",
       "    }\n",
       "\n",
       "    .dataframe thead th {\n",
       "        text-align: right;\n",
       "    }\n",
       "</style>\n",
       "<table border=\"1\" class=\"dataframe\">\n",
       "  <thead>\n",
       "    <tr style=\"text-align: right;\">\n",
       "      <th></th>\n",
       "      <th>destroyed_1</th>\n",
       "      <th>image</th>\n",
       "    </tr>\n",
       "    <tr>\n",
       "      <th>patch_id</th>\n",
       "      <th></th>\n",
       "      <th></th>\n",
       "    </tr>\n",
       "  </thead>\n",
       "  <tbody>\n",
       "    <tr>\n",
       "      <th>1</th>\n",
       "      <td>0</td>\n",
       "      <td>image_a</td>\n",
       "    </tr>\n",
       "    <tr>\n",
       "      <th>2</th>\n",
       "      <td>1</td>\n",
       "      <td>image_b</td>\n",
       "    </tr>\n",
       "  </tbody>\n",
       "</table>\n",
       "</div>"
      ],
      "text/plain": [
       "          destroyed_1    image\n",
       "patch_id                      \n",
       "1                   0  image_a\n",
       "2                   1  image_b"
      ]
     },
     "execution_count": 11,
     "metadata": {},
     "output_type": "execute_result"
    }
   ],
   "source": [
    "pipeline = Pipeline(\n",
    "    preprocessors=[\n",
    "        ('preprocess_annotations', preprocessor_preprocess_annotations)\n",
    "    ],\n",
    "    features=[\n",
    "        ('damage_dummy', feature_create_damage_dummy),\n",
    "        ('feature_split_images', feature_split_images)\n",
    "    ]\n",
    ")\n",
    "feature_data = pipeline.transform(data)\n",
    "feature_data.head()"
   ]
  },
  {
   "cell_type": "markdown",
   "metadata": {},
   "source": [
    "## A real example"
   ]
  },
  {
   "cell_type": "markdown",
   "metadata": {},
   "source": [
    "Next, we run a real example, with the data from daraa and some feature classes that exist in the damage library."
   ]
  },
  {
   "cell_type": "code",
   "execution_count": 10,
   "metadata": {},
   "outputs": [],
   "source": [
    "## Reading\n",
    "cities = ['daraa']\n",
    "\n",
    "rasters_path = '../data/city_rasters/'\n",
    "annotations_path = '../data/annotations/'\n",
    "polygons_path = '../data/polygons/'\n",
    "\n",
    "data = load_data_multiple_cities(cities, rasters_path, annotations_path, polygons_path)"
   ]
  },
  {
   "cell_type": "code",
   "execution_count": 11,
   "metadata": {},
   "outputs": [
    {
     "name": "stderr",
     "output_type": "stream",
     "text": [
      "INFO:::AnnotationPreprocessor:::2019-07-23 16:00:49,623:::Applying AnnotationPreprocessor\n",
      "INFO:::RasterSplitter:::2019-07-23 16:00:49,844:::Applying RasterSplitter\n",
      "100%|██████████| 207/207 [00:34<00:00,  5.96it/s]\n",
      "100%|██████████| 207/207 [00:34<00:00,  6.02it/s]\n",
      "INFO:::AnnotationMaker:::2019-07-23 16:02:13,951:::Applying AnnotationMaker\n",
      "INFO:::RasterPairMaker:::2019-07-23 16:02:14,321:::Applying RasterPairMaker\n"
     ]
    }
   ],
   "source": [
    "### Processing\n",
    "from datetime import timedelta\n",
    "patch_size = 64\n",
    "stride = patch_size\n",
    "TIME_TO_ANNOTATION_THRESHOLD = timedelta(weeks=1)\n",
    "pipeline = features.Pipeline(\n",
    "    preprocessors=[\n",
    "        ('AnnotationPreprocessor', features.AnnotationPreprocessor()),\n",
    "    ],\n",
    "    features=[\n",
    "        ('RasterSplitter', features.RasterSplitter(patch_size=patch_size, stride=stride)),\n",
    "        ('AnnotationMaker', features.AnnotationMaker(patch_size, TIME_TO_ANNOTATION_THRESHOLD)),\n",
    "        ('RasterPairMaker', features.RasterPairMaker()),\n",
    "    ],\n",
    "\n",
    ")\n",
    "\n",
    "feature_data = pipeline.transform(data)"
   ]
  },
  {
   "cell_type": "code",
   "execution_count": 12,
   "metadata": {},
   "outputs": [
    {
     "data": {
      "text/html": [
       "<div>\n",
       "<style scoped>\n",
       "    .dataframe tbody tr th:only-of-type {\n",
       "        vertical-align: middle;\n",
       "    }\n",
       "\n",
       "    .dataframe tbody tr th {\n",
       "        vertical-align: top;\n",
       "    }\n",
       "\n",
       "    .dataframe thead th {\n",
       "        text-align: right;\n",
       "    }\n",
       "</style>\n",
       "<table border=\"1\" class=\"dataframe\">\n",
       "  <thead>\n",
       "    <tr style=\"text-align: right;\">\n",
       "      <th></th>\n",
       "      <th></th>\n",
       "      <th></th>\n",
       "      <th>annotation_date</th>\n",
       "      <th>damage_num</th>\n",
       "      <th>destroyed</th>\n",
       "      <th>latitude</th>\n",
       "      <th>longitude</th>\n",
       "      <th>image</th>\n",
       "    </tr>\n",
       "    <tr>\n",
       "      <th>city</th>\n",
       "      <th>patch_id</th>\n",
       "      <th>date</th>\n",
       "      <th></th>\n",
       "      <th></th>\n",
       "      <th></th>\n",
       "      <th></th>\n",
       "      <th></th>\n",
       "      <th></th>\n",
       "    </tr>\n",
       "  </thead>\n",
       "  <tbody>\n",
       "    <tr>\n",
       "      <th rowspan=\"5\" valign=\"top\">daraa</th>\n",
       "      <th>10016-3488</th>\n",
       "      <th>2017-02-07</th>\n",
       "      <td>NaN</td>\n",
       "      <td>NaN</td>\n",
       "      <td>NaN</td>\n",
       "      <td>32.642266</td>\n",
       "      <td>36.121848</td>\n",
       "      <td>[[[74, 57, 58, 74, 49, 41], [82, 65, 66, 90, 6...</td>\n",
       "    </tr>\n",
       "    <tr>\n",
       "      <th>10016-3552</th>\n",
       "      <th>2017-02-07</th>\n",
       "      <td>NaN</td>\n",
       "      <td>NaN</td>\n",
       "      <td>NaN</td>\n",
       "      <td>32.641923</td>\n",
       "      <td>36.121848</td>\n",
       "      <td>[[[82, 69, 74, 74, 57, 49], [90, 77, 74, 74, 5...</td>\n",
       "    </tr>\n",
       "    <tr>\n",
       "      <th>10016-3616</th>\n",
       "      <th>2017-02-07</th>\n",
       "      <td>NaN</td>\n",
       "      <td>NaN</td>\n",
       "      <td>NaN</td>\n",
       "      <td>32.641580</td>\n",
       "      <td>36.121848</td>\n",
       "      <td>[[[16, 16, 25, 25, 20, 16], [16, 12, 16, 16, 1...</td>\n",
       "    </tr>\n",
       "    <tr>\n",
       "      <th>10016-3680</th>\n",
       "      <th>2017-02-07</th>\n",
       "      <td>NaN</td>\n",
       "      <td>NaN</td>\n",
       "      <td>NaN</td>\n",
       "      <td>32.641236</td>\n",
       "      <td>36.121848</td>\n",
       "      <td>[[[115, 101, 99, 90, 61, 58], [107, 93, 90, 90...</td>\n",
       "    </tr>\n",
       "    <tr>\n",
       "      <th>10016-3744</th>\n",
       "      <th>2017-02-07</th>\n",
       "      <td>NaN</td>\n",
       "      <td>NaN</td>\n",
       "      <td>NaN</td>\n",
       "      <td>32.640893</td>\n",
       "      <td>36.121848</td>\n",
       "      <td>[[[74, 81, 66, 49, 36, 33], [49, 61, 49, 41, 3...</td>\n",
       "    </tr>\n",
       "  </tbody>\n",
       "</table>\n",
       "</div>"
      ],
      "text/plain": [
       "                            annotation_date  damage_num  destroyed   latitude  \\\n",
       "city  patch_id   date                                                           \n",
       "daraa 10016-3488 2017-02-07             NaN         NaN        NaN  32.642266   \n",
       "      10016-3552 2017-02-07             NaN         NaN        NaN  32.641923   \n",
       "      10016-3616 2017-02-07             NaN         NaN        NaN  32.641580   \n",
       "      10016-3680 2017-02-07             NaN         NaN        NaN  32.641236   \n",
       "      10016-3744 2017-02-07             NaN         NaN        NaN  32.640893   \n",
       "\n",
       "                             longitude  \\\n",
       "city  patch_id   date                    \n",
       "daraa 10016-3488 2017-02-07  36.121848   \n",
       "      10016-3552 2017-02-07  36.121848   \n",
       "      10016-3616 2017-02-07  36.121848   \n",
       "      10016-3680 2017-02-07  36.121848   \n",
       "      10016-3744 2017-02-07  36.121848   \n",
       "\n",
       "                                                                         image  \n",
       "city  patch_id   date                                                           \n",
       "daraa 10016-3488 2017-02-07  [[[74, 57, 58, 74, 49, 41], [82, 65, 66, 90, 6...  \n",
       "      10016-3552 2017-02-07  [[[82, 69, 74, 74, 57, 49], [90, 77, 74, 74, 5...  \n",
       "      10016-3616 2017-02-07  [[[16, 16, 25, 25, 20, 16], [16, 12, 16, 16, 1...  \n",
       "      10016-3680 2017-02-07  [[[115, 101, 99, 90, 61, 58], [107, 93, 90, 90...  \n",
       "      10016-3744 2017-02-07  [[[74, 81, 66, 49, 36, 33], [49, 61, 49, 41, 3...  "
      ]
     },
     "execution_count": 12,
     "metadata": {},
     "output_type": "execute_result"
    }
   ],
   "source": [
    "feature_data.head()"
   ]
  },
  {
   "cell_type": "code",
   "execution_count": 17,
   "metadata": {},
   "outputs": [
    {
     "data": {
      "text/plain": [
       "13174"
      ]
     },
     "execution_count": 17,
     "metadata": {},
     "output_type": "execute_result"
    }
   ],
   "source": [
    "feature_data['destroyed'].isnull().sum()"
   ]
  },
  {
   "cell_type": "markdown",
   "metadata": {},
   "source": [
    "And now we can save this data as a pickle file to retrieve it later."
   ]
  },
  {
   "cell_type": "code",
   "execution_count": 19,
   "metadata": {},
   "outputs": [],
   "source": [
    "feature_data.to_pickle('../logs/features/example_daraa.p')"
   ]
  },
  {
   "cell_type": "code",
   "execution_count": null,
   "metadata": {},
   "outputs": [],
   "source": []
  }
 ],
 "metadata": {
  "kernelspec": {
   "display_name": "Python 3",
   "language": "python",
   "name": "python3"
  },
  "language_info": {
   "codemirror_mode": {
    "name": "ipython",
    "version": 3
   },
   "file_extension": ".py",
   "mimetype": "text/x-python",
   "name": "python",
   "nbconvert_exporter": "python",
   "pygments_lexer": "ipython3",
   "version": "3.7.1"
  }
 },
 "nbformat": 4,
 "nbformat_minor": 2
}
